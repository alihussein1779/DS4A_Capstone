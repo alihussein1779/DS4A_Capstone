{
 "metadata": {
  "language_info": {
   "codemirror_mode": {
    "name": "ipython",
    "version": 3
   },
   "file_extension": ".py",
   "mimetype": "text/x-python",
   "name": "python",
   "nbconvert_exporter": "python",
   "pygments_lexer": "ipython3",
   "version": "3.9.5"
  },
  "orig_nbformat": 4,
  "kernelspec": {
   "name": "python3",
   "display_name": "Python 3.9.5 64-bit"
  },
  "interpreter": {
   "hash": "427c0d07d7020fa15366b44f6c06d66dd78bc105f623e6ff7f91c3b98c679e25"
  }
 },
 "nbformat": 4,
 "nbformat_minor": 2,
 "cells": [
  {
   "cell_type": "code",
   "execution_count": 1,
   "metadata": {},
   "outputs": [],
   "source": [
    "import pandas as pd"
   ]
  },
  {
   "cell_type": "code",
   "execution_count": 2,
   "metadata": {},
   "outputs": [],
   "source": [
    "df = pd.read_csv(\"diversityindex.csv\")"
   ]
  },
  {
   "cell_type": "code",
   "execution_count": 39,
   "metadata": {},
   "outputs": [],
   "source": [
    "pd.set_option(\"display.max_columns\", None)"
   ]
  },
  {
   "cell_type": "code",
   "execution_count": 3,
   "metadata": {},
   "outputs": [
    {
     "output_type": "execute_result",
     "data": {
      "text/plain": [
       "                         Location  Diversity-Index  \\\n",
       "0  Aleutians West Census Area, AK         0.769346   \n",
       "1               Queens County, NY         0.742224   \n",
       "2                 Maui County, HI         0.740757   \n",
       "3              Alameda County, CA         0.740399   \n",
       "4      Aleutians East Borough, AK         0.738867   \n",
       "\n",
       "   Black or African American alone, percent, 2013  \\\n",
       "0                                             7.4   \n",
       "1                                            20.9   \n",
       "2                                             0.8   \n",
       "3                                            12.4   \n",
       "4                                             7.7   \n",
       "\n",
       "   American Indian and Alaska Native alone, percent, 2013  \\\n",
       "0                                               13.8        \n",
       "1                                                1.3        \n",
       "2                                                0.6        \n",
       "3                                                1.2        \n",
       "4                                               21.8        \n",
       "\n",
       "   Asian alone, percent, 2013  \\\n",
       "0                        31.1   \n",
       "1                        25.2   \n",
       "2                        28.8   \n",
       "3                        28.2   \n",
       "4                        41.4   \n",
       "\n",
       "   Native Hawaiian and Other Pacific Islander alone, percent,  \\\n",
       "0                                                2.3            \n",
       "1                                                0.2            \n",
       "2                                               10.6            \n",
       "3                                                1.0            \n",
       "4                                                0.7            \n",
       "\n",
       "   Two or More Races, percent, 2013  Hispanic or Latino, percent, 2013  \\\n",
       "0                               4.8                               14.6   \n",
       "1                               2.7                               28.0   \n",
       "2                              23.3                               10.7   \n",
       "3                               5.2                               22.7   \n",
       "4                               3.7                               13.5   \n",
       "\n",
       "   White alone, not Hispanic or Latino, percent, 2013  \n",
       "0                                               29.2   \n",
       "1                                               26.7   \n",
       "2                                               31.5   \n",
       "3                                               33.2   \n",
       "4                                               12.9   "
      ],
      "text/html": "<div>\n<style scoped>\n    .dataframe tbody tr th:only-of-type {\n        vertical-align: middle;\n    }\n\n    .dataframe tbody tr th {\n        vertical-align: top;\n    }\n\n    .dataframe thead th {\n        text-align: right;\n    }\n</style>\n<table border=\"1\" class=\"dataframe\">\n  <thead>\n    <tr style=\"text-align: right;\">\n      <th></th>\n      <th>Location</th>\n      <th>Diversity-Index</th>\n      <th>Black or African American alone, percent, 2013</th>\n      <th>American Indian and Alaska Native alone, percent, 2013</th>\n      <th>Asian alone, percent, 2013</th>\n      <th>Native Hawaiian and Other Pacific Islander alone, percent,</th>\n      <th>Two or More Races, percent, 2013</th>\n      <th>Hispanic or Latino, percent, 2013</th>\n      <th>White alone, not Hispanic or Latino, percent, 2013</th>\n    </tr>\n  </thead>\n  <tbody>\n    <tr>\n      <th>0</th>\n      <td>Aleutians West Census Area, AK</td>\n      <td>0.769346</td>\n      <td>7.4</td>\n      <td>13.8</td>\n      <td>31.1</td>\n      <td>2.3</td>\n      <td>4.8</td>\n      <td>14.6</td>\n      <td>29.2</td>\n    </tr>\n    <tr>\n      <th>1</th>\n      <td>Queens County, NY</td>\n      <td>0.742224</td>\n      <td>20.9</td>\n      <td>1.3</td>\n      <td>25.2</td>\n      <td>0.2</td>\n      <td>2.7</td>\n      <td>28.0</td>\n      <td>26.7</td>\n    </tr>\n    <tr>\n      <th>2</th>\n      <td>Maui County, HI</td>\n      <td>0.740757</td>\n      <td>0.8</td>\n      <td>0.6</td>\n      <td>28.8</td>\n      <td>10.6</td>\n      <td>23.3</td>\n      <td>10.7</td>\n      <td>31.5</td>\n    </tr>\n    <tr>\n      <th>3</th>\n      <td>Alameda County, CA</td>\n      <td>0.740399</td>\n      <td>12.4</td>\n      <td>1.2</td>\n      <td>28.2</td>\n      <td>1.0</td>\n      <td>5.2</td>\n      <td>22.7</td>\n      <td>33.2</td>\n    </tr>\n    <tr>\n      <th>4</th>\n      <td>Aleutians East Borough, AK</td>\n      <td>0.738867</td>\n      <td>7.7</td>\n      <td>21.8</td>\n      <td>41.4</td>\n      <td>0.7</td>\n      <td>3.7</td>\n      <td>13.5</td>\n      <td>12.9</td>\n    </tr>\n  </tbody>\n</table>\n</div>"
     },
     "metadata": {},
     "execution_count": 3
    }
   ],
   "source": [
    "df.head()"
   ]
  },
  {
   "cell_type": "code",
   "execution_count": 4,
   "metadata": {},
   "outputs": [
    {
     "output_type": "execute_result",
     "data": {
      "text/plain": [
       "<bound method NDFrame.describe of                             Location  Diversity-Index  \\\n",
       "0     Aleutians West Census Area, AK         0.769346   \n",
       "1                  Queens County, NY         0.742224   \n",
       "2                    Maui County, HI         0.740757   \n",
       "3                 Alameda County, CA         0.740399   \n",
       "4         Aleutians East Borough, AK         0.738867   \n",
       "...                              ...              ...   \n",
       "3190                Osage County, MO         0.037540   \n",
       "3191              Lincoln County, WV         0.035585   \n",
       "3192               Leslie County, KY         0.035581   \n",
       "3193               Blaine County, NE         0.023784   \n",
       "3194            Keya Paha County, NE         0.021816   \n",
       "\n",
       "      Black or African American alone, percent, 2013  \\\n",
       "0                                                7.4   \n",
       "1                                               20.9   \n",
       "2                                                0.8   \n",
       "3                                               12.4   \n",
       "4                                                7.7   \n",
       "...                                              ...   \n",
       "3190                                             0.3   \n",
       "3191                                             0.2   \n",
       "3192                                             0.4   \n",
       "3193                                             0.2   \n",
       "3194                                             0.0   \n",
       "\n",
       "      American Indian and Alaska Native alone, percent, 2013  \\\n",
       "0                                                  13.8        \n",
       "1                                                   1.3        \n",
       "2                                                   0.6        \n",
       "3                                                   1.2        \n",
       "4                                                  21.8        \n",
       "...                                                 ...        \n",
       "3190                                                0.2        \n",
       "3191                                                0.1        \n",
       "3192                                                0.1        \n",
       "3193                                                0.0        \n",
       "3194                                                0.1        \n",
       "\n",
       "      Asian alone, percent, 2013  \\\n",
       "0                           31.1   \n",
       "1                           25.2   \n",
       "2                           28.8   \n",
       "3                           28.2   \n",
       "4                           41.4   \n",
       "...                          ...   \n",
       "3190                         0.1   \n",
       "3191                         0.1   \n",
       "3192                         0.2   \n",
       "3193                         0.0   \n",
       "3194                         0.1   \n",
       "\n",
       "      Native Hawaiian and Other Pacific Islander alone, percent,  \\\n",
       "0                                                   2.3            \n",
       "1                                                   0.2            \n",
       "2                                                  10.6            \n",
       "3                                                   1.0            \n",
       "4                                                   0.7            \n",
       "...                                                 ...            \n",
       "3190                                                0.0            \n",
       "3191                                                0.0            \n",
       "3192                                                0.0            \n",
       "3193                                                0.0            \n",
       "3194                                                0.0            \n",
       "\n",
       "      Two or More Races, percent, 2013  Hispanic or Latino, percent, 2013  \\\n",
       "0                                  4.8                               14.6   \n",
       "1                                  2.7                               28.0   \n",
       "2                                 23.3                               10.7   \n",
       "3                                  5.2                               22.7   \n",
       "4                                  3.7                               13.5   \n",
       "...                                ...                                ...   \n",
       "3190                               0.7                                0.6   \n",
       "3191                               0.7                                0.6   \n",
       "3192                               0.7                                0.5   \n",
       "3193                               0.8                                0.2   \n",
       "3194                               0.6                                0.5   \n",
       "\n",
       "      White alone, not Hispanic or Latino, percent, 2013  \n",
       "0                                                  29.2   \n",
       "1                                                  26.7   \n",
       "2                                                  31.5   \n",
       "3                                                  33.2   \n",
       "4                                                  12.9   \n",
       "...                                                 ...   \n",
       "3190                                               98.1   \n",
       "3191                                               98.2   \n",
       "3192                                               98.2   \n",
       "3193                                               98.8   \n",
       "3194                                               98.9   \n",
       "\n",
       "[3195 rows x 9 columns]>"
      ]
     },
     "metadata": {},
     "execution_count": 4
    }
   ],
   "source": [
    "df.describe"
   ]
  },
  {
   "cell_type": "code",
   "execution_count": 5,
   "metadata": {},
   "outputs": [],
   "source": [
    "#split the county column into county and state\n",
    "#using the split value for this\n",
    "\n",
    "df[['County','State']] = df.Location.str.split(\",\", expand= True)"
   ]
  },
  {
   "cell_type": "code",
   "execution_count": 6,
   "metadata": {},
   "outputs": [
    {
     "output_type": "execute_result",
     "data": {
      "text/plain": [
       "                         Location  Diversity-Index  \\\n",
       "0  Aleutians West Census Area, AK         0.769346   \n",
       "1               Queens County, NY         0.742224   \n",
       "2                 Maui County, HI         0.740757   \n",
       "3              Alameda County, CA         0.740399   \n",
       "4      Aleutians East Borough, AK         0.738867   \n",
       "\n",
       "   Black or African American alone, percent, 2013  \\\n",
       "0                                             7.4   \n",
       "1                                            20.9   \n",
       "2                                             0.8   \n",
       "3                                            12.4   \n",
       "4                                             7.7   \n",
       "\n",
       "   American Indian and Alaska Native alone, percent, 2013  \\\n",
       "0                                               13.8        \n",
       "1                                                1.3        \n",
       "2                                                0.6        \n",
       "3                                                1.2        \n",
       "4                                               21.8        \n",
       "\n",
       "   Asian alone, percent, 2013  \\\n",
       "0                        31.1   \n",
       "1                        25.2   \n",
       "2                        28.8   \n",
       "3                        28.2   \n",
       "4                        41.4   \n",
       "\n",
       "   Native Hawaiian and Other Pacific Islander alone, percent,  \\\n",
       "0                                                2.3            \n",
       "1                                                0.2            \n",
       "2                                               10.6            \n",
       "3                                                1.0            \n",
       "4                                                0.7            \n",
       "\n",
       "   Two or More Races, percent, 2013  Hispanic or Latino, percent, 2013  \\\n",
       "0                               4.8                               14.6   \n",
       "1                               2.7                               28.0   \n",
       "2                              23.3                               10.7   \n",
       "3                               5.2                               22.7   \n",
       "4                               3.7                               13.5   \n",
       "\n",
       "   White alone, not Hispanic or Latino, percent, 2013  \\\n",
       "0                                               29.2    \n",
       "1                                               26.7    \n",
       "2                                               31.5    \n",
       "3                                               33.2    \n",
       "4                                               12.9    \n",
       "\n",
       "                       County State  \n",
       "0  Aleutians West Census Area    AK  \n",
       "1               Queens County    NY  \n",
       "2                 Maui County    HI  \n",
       "3              Alameda County    CA  \n",
       "4      Aleutians East Borough    AK  "
      ],
      "text/html": "<div>\n<style scoped>\n    .dataframe tbody tr th:only-of-type {\n        vertical-align: middle;\n    }\n\n    .dataframe tbody tr th {\n        vertical-align: top;\n    }\n\n    .dataframe thead th {\n        text-align: right;\n    }\n</style>\n<table border=\"1\" class=\"dataframe\">\n  <thead>\n    <tr style=\"text-align: right;\">\n      <th></th>\n      <th>Location</th>\n      <th>Diversity-Index</th>\n      <th>Black or African American alone, percent, 2013</th>\n      <th>American Indian and Alaska Native alone, percent, 2013</th>\n      <th>Asian alone, percent, 2013</th>\n      <th>Native Hawaiian and Other Pacific Islander alone, percent,</th>\n      <th>Two or More Races, percent, 2013</th>\n      <th>Hispanic or Latino, percent, 2013</th>\n      <th>White alone, not Hispanic or Latino, percent, 2013</th>\n      <th>County</th>\n      <th>State</th>\n    </tr>\n  </thead>\n  <tbody>\n    <tr>\n      <th>0</th>\n      <td>Aleutians West Census Area, AK</td>\n      <td>0.769346</td>\n      <td>7.4</td>\n      <td>13.8</td>\n      <td>31.1</td>\n      <td>2.3</td>\n      <td>4.8</td>\n      <td>14.6</td>\n      <td>29.2</td>\n      <td>Aleutians West Census Area</td>\n      <td>AK</td>\n    </tr>\n    <tr>\n      <th>1</th>\n      <td>Queens County, NY</td>\n      <td>0.742224</td>\n      <td>20.9</td>\n      <td>1.3</td>\n      <td>25.2</td>\n      <td>0.2</td>\n      <td>2.7</td>\n      <td>28.0</td>\n      <td>26.7</td>\n      <td>Queens County</td>\n      <td>NY</td>\n    </tr>\n    <tr>\n      <th>2</th>\n      <td>Maui County, HI</td>\n      <td>0.740757</td>\n      <td>0.8</td>\n      <td>0.6</td>\n      <td>28.8</td>\n      <td>10.6</td>\n      <td>23.3</td>\n      <td>10.7</td>\n      <td>31.5</td>\n      <td>Maui County</td>\n      <td>HI</td>\n    </tr>\n    <tr>\n      <th>3</th>\n      <td>Alameda County, CA</td>\n      <td>0.740399</td>\n      <td>12.4</td>\n      <td>1.2</td>\n      <td>28.2</td>\n      <td>1.0</td>\n      <td>5.2</td>\n      <td>22.7</td>\n      <td>33.2</td>\n      <td>Alameda County</td>\n      <td>CA</td>\n    </tr>\n    <tr>\n      <th>4</th>\n      <td>Aleutians East Borough, AK</td>\n      <td>0.738867</td>\n      <td>7.7</td>\n      <td>21.8</td>\n      <td>41.4</td>\n      <td>0.7</td>\n      <td>3.7</td>\n      <td>13.5</td>\n      <td>12.9</td>\n      <td>Aleutians East Borough</td>\n      <td>AK</td>\n    </tr>\n  </tbody>\n</table>\n</div>"
     },
     "metadata": {},
     "execution_count": 6
    }
   ],
   "source": [
    "df.head()"
   ]
  },
  {
   "cell_type": "code",
   "execution_count": 7,
   "metadata": {},
   "outputs": [
    {
     "output_type": "execute_result",
     "data": {
      "text/plain": [
       "Index(['Location', 'Diversity-Index',\n",
       "       'Black or African American alone, percent, 2013',\n",
       "       'American Indian and Alaska Native alone, percent, 2013',\n",
       "       'Asian alone, percent, 2013',\n",
       "       'Native Hawaiian and Other Pacific Islander alone, percent,',\n",
       "       'Two or More Races, percent, 2013', 'Hispanic or Latino, percent, 2013',\n",
       "       'White alone, not Hispanic or Latino, percent, 2013', 'County',\n",
       "       'State'],\n",
       "      dtype='object')"
      ]
     },
     "metadata": {},
     "execution_count": 7
    }
   ],
   "source": [
    "df.columns"
   ]
  },
  {
   "cell_type": "code",
   "execution_count": 8,
   "metadata": {},
   "outputs": [],
   "source": [
    "#since we have 9 columns , we can manually change the columns with the ones we want\n",
    "#as we want to make sure we have an original safe, we will use .copy to preserve original states\n",
    "\n",
    "df_reorder = df[['County','State','Black or African American alone, percent, 2013','Hispanic or Latino, percent, 2013','White alone, not Hispanic or Latino, percent, 2013','Two or More Races, percent, 2013','Diversity-Index'\n",
    "]]"
   ]
  },
  {
   "cell_type": "code",
   "execution_count": 9,
   "metadata": {},
   "outputs": [
    {
     "output_type": "execute_result",
     "data": {
      "text/plain": [
       "                       County State  \\\n",
       "0  Aleutians West Census Area    AK   \n",
       "1               Queens County    NY   \n",
       "2                 Maui County    HI   \n",
       "3              Alameda County    CA   \n",
       "4      Aleutians East Borough    AK   \n",
       "\n",
       "   Black or African American alone, percent, 2013  \\\n",
       "0                                             7.4   \n",
       "1                                            20.9   \n",
       "2                                             0.8   \n",
       "3                                            12.4   \n",
       "4                                             7.7   \n",
       "\n",
       "   Hispanic or Latino, percent, 2013  \\\n",
       "0                               14.6   \n",
       "1                               28.0   \n",
       "2                               10.7   \n",
       "3                               22.7   \n",
       "4                               13.5   \n",
       "\n",
       "   White alone, not Hispanic or Latino, percent, 2013  \\\n",
       "0                                               29.2    \n",
       "1                                               26.7    \n",
       "2                                               31.5    \n",
       "3                                               33.2    \n",
       "4                                               12.9    \n",
       "\n",
       "   Two or More Races, percent, 2013  Diversity-Index  \n",
       "0                               4.8         0.769346  \n",
       "1                               2.7         0.742224  \n",
       "2                              23.3         0.740757  \n",
       "3                               5.2         0.740399  \n",
       "4                               3.7         0.738867  "
      ],
      "text/html": "<div>\n<style scoped>\n    .dataframe tbody tr th:only-of-type {\n        vertical-align: middle;\n    }\n\n    .dataframe tbody tr th {\n        vertical-align: top;\n    }\n\n    .dataframe thead th {\n        text-align: right;\n    }\n</style>\n<table border=\"1\" class=\"dataframe\">\n  <thead>\n    <tr style=\"text-align: right;\">\n      <th></th>\n      <th>County</th>\n      <th>State</th>\n      <th>Black or African American alone, percent, 2013</th>\n      <th>Hispanic or Latino, percent, 2013</th>\n      <th>White alone, not Hispanic or Latino, percent, 2013</th>\n      <th>Two or More Races, percent, 2013</th>\n      <th>Diversity-Index</th>\n    </tr>\n  </thead>\n  <tbody>\n    <tr>\n      <th>0</th>\n      <td>Aleutians West Census Area</td>\n      <td>AK</td>\n      <td>7.4</td>\n      <td>14.6</td>\n      <td>29.2</td>\n      <td>4.8</td>\n      <td>0.769346</td>\n    </tr>\n    <tr>\n      <th>1</th>\n      <td>Queens County</td>\n      <td>NY</td>\n      <td>20.9</td>\n      <td>28.0</td>\n      <td>26.7</td>\n      <td>2.7</td>\n      <td>0.742224</td>\n    </tr>\n    <tr>\n      <th>2</th>\n      <td>Maui County</td>\n      <td>HI</td>\n      <td>0.8</td>\n      <td>10.7</td>\n      <td>31.5</td>\n      <td>23.3</td>\n      <td>0.740757</td>\n    </tr>\n    <tr>\n      <th>3</th>\n      <td>Alameda County</td>\n      <td>CA</td>\n      <td>12.4</td>\n      <td>22.7</td>\n      <td>33.2</td>\n      <td>5.2</td>\n      <td>0.740399</td>\n    </tr>\n    <tr>\n      <th>4</th>\n      <td>Aleutians East Borough</td>\n      <td>AK</td>\n      <td>7.7</td>\n      <td>13.5</td>\n      <td>12.9</td>\n      <td>3.7</td>\n      <td>0.738867</td>\n    </tr>\n  </tbody>\n</table>\n</div>"
     },
     "metadata": {},
     "execution_count": 9
    }
   ],
   "source": [
    "df_reorder.head()"
   ]
  },
  {
   "cell_type": "code",
   "execution_count": 10,
   "metadata": {},
   "outputs": [
    {
     "output_type": "execute_result",
     "data": {
      "text/plain": [
       "<bound method NDFrame.describe of                           County State  \\\n",
       "0     Aleutians West Census Area    AK   \n",
       "1                  Queens County    NY   \n",
       "2                    Maui County    HI   \n",
       "3                 Alameda County    CA   \n",
       "4         Aleutians East Borough    AK   \n",
       "...                          ...   ...   \n",
       "3190                Osage County    MO   \n",
       "3191              Lincoln County    WV   \n",
       "3192               Leslie County    KY   \n",
       "3193               Blaine County    NE   \n",
       "3194            Keya Paha County    NE   \n",
       "\n",
       "      Black or African American alone, percent, 2013  \\\n",
       "0                                                7.4   \n",
       "1                                               20.9   \n",
       "2                                                0.8   \n",
       "3                                               12.4   \n",
       "4                                                7.7   \n",
       "...                                              ...   \n",
       "3190                                             0.3   \n",
       "3191                                             0.2   \n",
       "3192                                             0.4   \n",
       "3193                                             0.2   \n",
       "3194                                             0.0   \n",
       "\n",
       "      Hispanic or Latino, percent, 2013  \\\n",
       "0                                  14.6   \n",
       "1                                  28.0   \n",
       "2                                  10.7   \n",
       "3                                  22.7   \n",
       "4                                  13.5   \n",
       "...                                 ...   \n",
       "3190                                0.6   \n",
       "3191                                0.6   \n",
       "3192                                0.5   \n",
       "3193                                0.2   \n",
       "3194                                0.5   \n",
       "\n",
       "      White alone, not Hispanic or Latino, percent, 2013  \\\n",
       "0                                                  29.2    \n",
       "1                                                  26.7    \n",
       "2                                                  31.5    \n",
       "3                                                  33.2    \n",
       "4                                                  12.9    \n",
       "...                                                 ...    \n",
       "3190                                               98.1    \n",
       "3191                                               98.2    \n",
       "3192                                               98.2    \n",
       "3193                                               98.8    \n",
       "3194                                               98.9    \n",
       "\n",
       "      Two or More Races, percent, 2013  Diversity-Index  \n",
       "0                                  4.8         0.769346  \n",
       "1                                  2.7         0.742224  \n",
       "2                                 23.3         0.740757  \n",
       "3                                  5.2         0.740399  \n",
       "4                                  3.7         0.738867  \n",
       "...                                ...              ...  \n",
       "3190                               0.7         0.037540  \n",
       "3191                               0.7         0.035585  \n",
       "3192                               0.7         0.035581  \n",
       "3193                               0.8         0.023784  \n",
       "3194                               0.6         0.021816  \n",
       "\n",
       "[3195 rows x 7 columns]>"
      ]
     },
     "metadata": {},
     "execution_count": 10
    }
   ],
   "source": [
    "#renaming some of the columns\n",
    "\n",
    "df_reorder.describe"
   ]
  },
  {
   "cell_type": "code",
   "execution_count": 11,
   "metadata": {},
   "outputs": [],
   "source": [
    "df_reorder.to_csv('DiversityIndexEdited.csv',index=False)"
   ]
  },
  {
   "cell_type": "code",
   "execution_count": 26,
   "metadata": {},
   "outputs": [
    {
     "output_type": "stream",
     "name": "stderr",
     "text": [
      "<ipython-input-26-eb48117052fa>:2: SettingWithCopyWarning: \nA value is trying to be set on a copy of a slice from a DataFrame.\nTry using .loc[row_indexer,col_indexer] = value instead\n\nSee the caveats in the documentation: https://pandas.pydata.org/pandas-docs/stable/user_guide/indexing.html#returning-a-view-versus-a-copy\n  df_reorder['State'] = df_reorder['State'].str.replace(' ', '')\n"
     ]
    }
   ],
   "source": [
    "\n",
    "#removing hidden whitespace in the column, was affecting the search\n",
    "df_reorder['State'] = df_reorder['State'].str.replace(' ', '')"
   ]
  },
  {
   "cell_type": "code",
   "execution_count": 28,
   "metadata": {},
   "outputs": [],
   "source": [
    "#making southern states\n",
    "southStates = ['MD','DC','DE','VA','WV','KY','TN','NC','SC','FL','GA','AL','MS','LA','AK','TX','OK']\n",
    "\n",
    "df_Southern_DI = df_reorder[df_reorder['State'].isin(southStates)]\n"
   ]
  },
  {
   "cell_type": "code",
   "execution_count": 29,
   "metadata": {},
   "outputs": [
    {
     "output_type": "execute_result",
     "data": {
      "text/plain": [
       "                          County State  \\\n",
       "0     Aleutians West Census Area    AK   \n",
       "4         Aleutians East Borough    AK   \n",
       "6               Fort Bend County    TX   \n",
       "11                Robeson County    NC   \n",
       "12               Gwinnett County    GA   \n",
       "...                          ...   ...   \n",
       "3186              Jackson County    KY   \n",
       "3188             Magoffin County    KY   \n",
       "3189            Dickenson County    VA   \n",
       "3191              Lincoln County    WV   \n",
       "3192               Leslie County    KY   \n",
       "\n",
       "      Black or African American alone, percent, 2013  \\\n",
       "0                                                7.4   \n",
       "4                                                7.7   \n",
       "6                                               21.2   \n",
       "11                                              24.7   \n",
       "12                                              26.3   \n",
       "...                                              ...   \n",
       "3186                                             0.3   \n",
       "3188                                             0.3   \n",
       "3189                                             0.4   \n",
       "3191                                             0.2   \n",
       "3192                                             0.4   \n",
       "\n",
       "      Hispanic or Latino, percent, 2013  \\\n",
       "0                                  14.6   \n",
       "4                                  13.5   \n",
       "6                                  24.0   \n",
       "11                                  8.0   \n",
       "12                                 20.4   \n",
       "...                                 ...   \n",
       "3186                                0.8   \n",
       "3188                                0.8   \n",
       "3189                                0.7   \n",
       "3191                                0.6   \n",
       "3192                                0.5   \n",
       "\n",
       "      White alone, not Hispanic or Latino, percent, 2013  \\\n",
       "0                                                  29.2    \n",
       "4                                                  12.9    \n",
       "6                                                  35.6    \n",
       "11                                                 26.8    \n",
       "12                                                 41.6    \n",
       "...                                                 ...    \n",
       "3186                                               98.0    \n",
       "3188                                               98.0    \n",
       "3189                                               98.1    \n",
       "3191                                               98.2    \n",
       "3192                                               98.2    \n",
       "\n",
       "      Two or More Races, percent, 2013  Diversity-Index  \n",
       "0                                  4.8         0.769346  \n",
       "4                                  3.7         0.738867  \n",
       "6                                  2.0         0.736427  \n",
       "11                                 2.5         0.704067  \n",
       "12                                 2.4         0.702974  \n",
       "...                                ...              ...  \n",
       "3186                               0.6         0.039483  \n",
       "3188                               0.7         0.039468  \n",
       "3189                               0.5         0.037544  \n",
       "3191                               0.7         0.035585  \n",
       "3192                               0.7         0.035581  \n",
       "\n",
       "[1377 rows x 7 columns]"
      ],
      "text/html": "<div>\n<style scoped>\n    .dataframe tbody tr th:only-of-type {\n        vertical-align: middle;\n    }\n\n    .dataframe tbody tr th {\n        vertical-align: top;\n    }\n\n    .dataframe thead th {\n        text-align: right;\n    }\n</style>\n<table border=\"1\" class=\"dataframe\">\n  <thead>\n    <tr style=\"text-align: right;\">\n      <th></th>\n      <th>County</th>\n      <th>State</th>\n      <th>Black or African American alone, percent, 2013</th>\n      <th>Hispanic or Latino, percent, 2013</th>\n      <th>White alone, not Hispanic or Latino, percent, 2013</th>\n      <th>Two or More Races, percent, 2013</th>\n      <th>Diversity-Index</th>\n    </tr>\n  </thead>\n  <tbody>\n    <tr>\n      <th>0</th>\n      <td>Aleutians West Census Area</td>\n      <td>AK</td>\n      <td>7.4</td>\n      <td>14.6</td>\n      <td>29.2</td>\n      <td>4.8</td>\n      <td>0.769346</td>\n    </tr>\n    <tr>\n      <th>4</th>\n      <td>Aleutians East Borough</td>\n      <td>AK</td>\n      <td>7.7</td>\n      <td>13.5</td>\n      <td>12.9</td>\n      <td>3.7</td>\n      <td>0.738867</td>\n    </tr>\n    <tr>\n      <th>6</th>\n      <td>Fort Bend County</td>\n      <td>TX</td>\n      <td>21.2</td>\n      <td>24.0</td>\n      <td>35.6</td>\n      <td>2.0</td>\n      <td>0.736427</td>\n    </tr>\n    <tr>\n      <th>11</th>\n      <td>Robeson County</td>\n      <td>NC</td>\n      <td>24.7</td>\n      <td>8.0</td>\n      <td>26.8</td>\n      <td>2.5</td>\n      <td>0.704067</td>\n    </tr>\n    <tr>\n      <th>12</th>\n      <td>Gwinnett County</td>\n      <td>GA</td>\n      <td>26.3</td>\n      <td>20.4</td>\n      <td>41.6</td>\n      <td>2.4</td>\n      <td>0.702974</td>\n    </tr>\n    <tr>\n      <th>...</th>\n      <td>...</td>\n      <td>...</td>\n      <td>...</td>\n      <td>...</td>\n      <td>...</td>\n      <td>...</td>\n      <td>...</td>\n    </tr>\n    <tr>\n      <th>3186</th>\n      <td>Jackson County</td>\n      <td>KY</td>\n      <td>0.3</td>\n      <td>0.8</td>\n      <td>98.0</td>\n      <td>0.6</td>\n      <td>0.039483</td>\n    </tr>\n    <tr>\n      <th>3188</th>\n      <td>Magoffin County</td>\n      <td>KY</td>\n      <td>0.3</td>\n      <td>0.8</td>\n      <td>98.0</td>\n      <td>0.7</td>\n      <td>0.039468</td>\n    </tr>\n    <tr>\n      <th>3189</th>\n      <td>Dickenson County</td>\n      <td>VA</td>\n      <td>0.4</td>\n      <td>0.7</td>\n      <td>98.1</td>\n      <td>0.5</td>\n      <td>0.037544</td>\n    </tr>\n    <tr>\n      <th>3191</th>\n      <td>Lincoln County</td>\n      <td>WV</td>\n      <td>0.2</td>\n      <td>0.6</td>\n      <td>98.2</td>\n      <td>0.7</td>\n      <td>0.035585</td>\n    </tr>\n    <tr>\n      <th>3192</th>\n      <td>Leslie County</td>\n      <td>KY</td>\n      <td>0.4</td>\n      <td>0.5</td>\n      <td>98.2</td>\n      <td>0.7</td>\n      <td>0.035581</td>\n    </tr>\n  </tbody>\n</table>\n<p>1377 rows × 7 columns</p>\n</div>"
     },
     "metadata": {},
     "execution_count": 29
    }
   ],
   "source": [
    "#check if the columns work this time\n",
    "df_Southern_DI"
   ]
  },
  {
   "cell_type": "code",
   "execution_count": 32,
   "metadata": {},
   "outputs": [],
   "source": [
    "#write to csv\n",
    "df_Southern_DI.to_csv('DiversityIndex_South.csv',index= False)"
   ]
  },
  {
   "cell_type": "code",
   "execution_count": 41,
   "metadata": {},
   "outputs": [
    {
     "output_type": "stream",
     "name": "stdout",
     "text": [
      "<class 'pandas.core.frame.DataFrame'>\nInt64Index: 1377 entries, 0 to 3192\nData columns (total 8 columns):\n #   Column                                              Non-Null Count  Dtype  \n---  ------                                              --------------  -----  \n 0   County                                              1377 non-null   object \n 1   State                                               1377 non-null   object \n 2   Black or African American alone, percent, 2013      1377 non-null   float64\n 3   Hispanic or Latino, percent, 2013                   1377 non-null   float64\n 4   White alone, not Hispanic or Latino, percent, 2013  1377 non-null   float64\n 5   Two or More Races, percent, 2013                    1377 non-null   float64\n 6   Diversity-Index                                     1377 non-null   float64\n 7   Percent of Blacks, Latino & Two Races               1377 non-null   float64\ndtypes: float64(6), object(2)\nmemory usage: 129.1+ KB\n"
     ]
    }
   ],
   "source": [
    "#check to see if the percent columns \n",
    "df_Southern_DI.info()\n"
   ]
  },
  {
   "cell_type": "code",
   "execution_count": 37,
   "metadata": {},
   "outputs": [
    {
     "output_type": "stream",
     "name": "stderr",
     "text": [
      "<ipython-input-37-ce5b8c80b7a0>:4: SettingWithCopyWarning: \nA value is trying to be set on a copy of a slice from a DataFrame.\nTry using .loc[row_indexer,col_indexer] = value instead\n\nSee the caveats in the documentation: https://pandas.pydata.org/pandas-docs/stable/user_guide/indexing.html#returning-a-view-versus-a-copy\n  df_Southern_DI['Percent of Blacks, Latino & Two Races'] = df_Southern_DI['Black or African American alone, percent, 2013'] + df_Southern_DI['Hispanic or Latino, percent, 2013'] + df_Southern_DI['Two or More Races, percent, 2013']\n"
     ]
    }
   ],
   "source": [
    "#Making a column that will take in the Black, Latino and Two Races percentage\n",
    "#will use it to see which counties are majoirty of the following \n",
    "\n",
    "df_Southern_DI['Percent of Blacks, Latino & Two Races'] = df_Southern_DI['Black or African American alone, percent, 2013'] + df_Southern_DI['Hispanic or Latino, percent, 2013'] + df_Southern_DI['Two or More Races, percent, 2013']"
   ]
  },
  {
   "cell_type": "code",
   "execution_count": 40,
   "metadata": {},
   "outputs": [
    {
     "output_type": "execute_result",
     "data": {
      "text/plain": [
       "                        County State  \\\n",
       "0   Aleutians West Census Area    AK   \n",
       "4       Aleutians East Borough    AK   \n",
       "6             Fort Bend County    TX   \n",
       "11              Robeson County    NC   \n",
       "12             Gwinnett County    GA   \n",
       "\n",
       "    Black or African American alone, percent, 2013  \\\n",
       "0                                              7.4   \n",
       "4                                              7.7   \n",
       "6                                             21.2   \n",
       "11                                            24.7   \n",
       "12                                            26.3   \n",
       "\n",
       "    Hispanic or Latino, percent, 2013  \\\n",
       "0                                14.6   \n",
       "4                                13.5   \n",
       "6                                24.0   \n",
       "11                                8.0   \n",
       "12                               20.4   \n",
       "\n",
       "    White alone, not Hispanic or Latino, percent, 2013  \\\n",
       "0                                                29.2    \n",
       "4                                                12.9    \n",
       "6                                                35.6    \n",
       "11                                               26.8    \n",
       "12                                               41.6    \n",
       "\n",
       "    Two or More Races, percent, 2013  Diversity-Index  \\\n",
       "0                                4.8         0.769346   \n",
       "4                                3.7         0.738867   \n",
       "6                                2.0         0.736427   \n",
       "11                               2.5         0.704067   \n",
       "12                               2.4         0.702974   \n",
       "\n",
       "    Percent of Blacks, Latino & Two Races  \n",
       "0                                    26.8  \n",
       "4                                    24.9  \n",
       "6                                    47.2  \n",
       "11                                   35.2  \n",
       "12                                   49.1  "
      ],
      "text/html": "<div>\n<style scoped>\n    .dataframe tbody tr th:only-of-type {\n        vertical-align: middle;\n    }\n\n    .dataframe tbody tr th {\n        vertical-align: top;\n    }\n\n    .dataframe thead th {\n        text-align: right;\n    }\n</style>\n<table border=\"1\" class=\"dataframe\">\n  <thead>\n    <tr style=\"text-align: right;\">\n      <th></th>\n      <th>County</th>\n      <th>State</th>\n      <th>Black or African American alone, percent, 2013</th>\n      <th>Hispanic or Latino, percent, 2013</th>\n      <th>White alone, not Hispanic or Latino, percent, 2013</th>\n      <th>Two or More Races, percent, 2013</th>\n      <th>Diversity-Index</th>\n      <th>Percent of Blacks, Latino &amp; Two Races</th>\n    </tr>\n  </thead>\n  <tbody>\n    <tr>\n      <th>0</th>\n      <td>Aleutians West Census Area</td>\n      <td>AK</td>\n      <td>7.4</td>\n      <td>14.6</td>\n      <td>29.2</td>\n      <td>4.8</td>\n      <td>0.769346</td>\n      <td>26.8</td>\n    </tr>\n    <tr>\n      <th>4</th>\n      <td>Aleutians East Borough</td>\n      <td>AK</td>\n      <td>7.7</td>\n      <td>13.5</td>\n      <td>12.9</td>\n      <td>3.7</td>\n      <td>0.738867</td>\n      <td>24.9</td>\n    </tr>\n    <tr>\n      <th>6</th>\n      <td>Fort Bend County</td>\n      <td>TX</td>\n      <td>21.2</td>\n      <td>24.0</td>\n      <td>35.6</td>\n      <td>2.0</td>\n      <td>0.736427</td>\n      <td>47.2</td>\n    </tr>\n    <tr>\n      <th>11</th>\n      <td>Robeson County</td>\n      <td>NC</td>\n      <td>24.7</td>\n      <td>8.0</td>\n      <td>26.8</td>\n      <td>2.5</td>\n      <td>0.704067</td>\n      <td>35.2</td>\n    </tr>\n    <tr>\n      <th>12</th>\n      <td>Gwinnett County</td>\n      <td>GA</td>\n      <td>26.3</td>\n      <td>20.4</td>\n      <td>41.6</td>\n      <td>2.4</td>\n      <td>0.702974</td>\n      <td>49.1</td>\n    </tr>\n  </tbody>\n</table>\n</div>"
     },
     "metadata": {},
     "execution_count": 40
    }
   ],
   "source": [
    "df_Southern_DI.head()"
   ]
  },
  {
   "cell_type": "code",
   "execution_count": 45,
   "metadata": {},
   "outputs": [],
   "source": [
    "#checking for percentage points that are greater than 50%\n",
    "df_Southern_DI_filtered = df_Southern_DI[df_Southern_DI['Percent of Blacks, Latino & Two Races'] > 50.0]"
   ]
  },
  {
   "cell_type": "code",
   "execution_count": 46,
   "metadata": {},
   "outputs": [
    {
     "output_type": "execute_result",
     "data": {
      "text/plain": [
       "                  County State  \\\n",
       "17    Manassas Park city    VA   \n",
       "18         Dallas County    TX   \n",
       "22           Hoke County    NC   \n",
       "25         Harris County    TX   \n",
       "31        Broward County    FL   \n",
       "...                  ...   ...   \n",
       "2360       Zavala County    TX   \n",
       "2440       Zapata County    TX   \n",
       "2720     Maverick County    TX   \n",
       "2767         Webb County    TX   \n",
       "2848        Starr County    TX   \n",
       "\n",
       "      Black or African American alone, percent, 2013  \\\n",
       "17                                              15.0   \n",
       "18                                              23.1   \n",
       "22                                              34.1   \n",
       "25                                              19.5   \n",
       "31                                              28.5   \n",
       "...                                              ...   \n",
       "2360                                             1.2   \n",
       "2440                                             0.5   \n",
       "2720                                             0.6   \n",
       "2767                                             0.7   \n",
       "2848                                             0.4   \n",
       "\n",
       "      Hispanic or Latino, percent, 2013  \\\n",
       "17                                 34.7   \n",
       "18                                 39.0   \n",
       "22                                 12.2   \n",
       "25                                 41.6   \n",
       "31                                 26.9   \n",
       "...                                 ...   \n",
       "2360                               92.9   \n",
       "2440                               93.5   \n",
       "2720                               95.1   \n",
       "2767                               95.3   \n",
       "2848                               95.7   \n",
       "\n",
       "      White alone, not Hispanic or Latino, percent, 2013  \\\n",
       "17                                                 39.4    \n",
       "18                                                 31.7    \n",
       "22                                                 41.4    \n",
       "25                                                 31.9    \n",
       "31                                                 40.8    \n",
       "...                                                 ...    \n",
       "2360                                                6.4    \n",
       "2440                                                5.8    \n",
       "2720                                                3.2    \n",
       "2767                                                3.7    \n",
       "2848                                                3.9    \n",
       "\n",
       "      Two or More Races, percent, 2013  Diversity-Index  \\\n",
       "17                                 3.7         0.690899   \n",
       "18                                 1.7         0.690390   \n",
       "22                                 4.1         0.686301   \n",
       "25                                 1.7         0.682123   \n",
       "31                                 2.0         0.678237   \n",
       "...                                ...              ...   \n",
       "2360                               0.7         0.132587   \n",
       "2440                               0.2         0.122362   \n",
       "2720                               0.4         0.094273   \n",
       "2767                               0.3         0.090279   \n",
       "2848                               0.2         0.082592   \n",
       "\n",
       "      Percent of Blacks, Latino & Two Races  \n",
       "17                                     53.4  \n",
       "18                                     63.8  \n",
       "22                                     50.4  \n",
       "25                                     62.8  \n",
       "31                                     57.4  \n",
       "...                                     ...  \n",
       "2360                                   94.8  \n",
       "2440                                   94.2  \n",
       "2720                                   96.1  \n",
       "2767                                   96.3  \n",
       "2848                                   96.3  \n",
       "\n",
       "[218 rows x 8 columns]"
      ],
      "text/html": "<div>\n<style scoped>\n    .dataframe tbody tr th:only-of-type {\n        vertical-align: middle;\n    }\n\n    .dataframe tbody tr th {\n        vertical-align: top;\n    }\n\n    .dataframe thead th {\n        text-align: right;\n    }\n</style>\n<table border=\"1\" class=\"dataframe\">\n  <thead>\n    <tr style=\"text-align: right;\">\n      <th></th>\n      <th>County</th>\n      <th>State</th>\n      <th>Black or African American alone, percent, 2013</th>\n      <th>Hispanic or Latino, percent, 2013</th>\n      <th>White alone, not Hispanic or Latino, percent, 2013</th>\n      <th>Two or More Races, percent, 2013</th>\n      <th>Diversity-Index</th>\n      <th>Percent of Blacks, Latino &amp; Two Races</th>\n    </tr>\n  </thead>\n  <tbody>\n    <tr>\n      <th>17</th>\n      <td>Manassas Park city</td>\n      <td>VA</td>\n      <td>15.0</td>\n      <td>34.7</td>\n      <td>39.4</td>\n      <td>3.7</td>\n      <td>0.690899</td>\n      <td>53.4</td>\n    </tr>\n    <tr>\n      <th>18</th>\n      <td>Dallas County</td>\n      <td>TX</td>\n      <td>23.1</td>\n      <td>39.0</td>\n      <td>31.7</td>\n      <td>1.7</td>\n      <td>0.690390</td>\n      <td>63.8</td>\n    </tr>\n    <tr>\n      <th>22</th>\n      <td>Hoke County</td>\n      <td>NC</td>\n      <td>34.1</td>\n      <td>12.2</td>\n      <td>41.4</td>\n      <td>4.1</td>\n      <td>0.686301</td>\n      <td>50.4</td>\n    </tr>\n    <tr>\n      <th>25</th>\n      <td>Harris County</td>\n      <td>TX</td>\n      <td>19.5</td>\n      <td>41.6</td>\n      <td>31.9</td>\n      <td>1.7</td>\n      <td>0.682123</td>\n      <td>62.8</td>\n    </tr>\n    <tr>\n      <th>31</th>\n      <td>Broward County</td>\n      <td>FL</td>\n      <td>28.5</td>\n      <td>26.9</td>\n      <td>40.8</td>\n      <td>2.0</td>\n      <td>0.678237</td>\n      <td>57.4</td>\n    </tr>\n    <tr>\n      <th>...</th>\n      <td>...</td>\n      <td>...</td>\n      <td>...</td>\n      <td>...</td>\n      <td>...</td>\n      <td>...</td>\n      <td>...</td>\n      <td>...</td>\n    </tr>\n    <tr>\n      <th>2360</th>\n      <td>Zavala County</td>\n      <td>TX</td>\n      <td>1.2</td>\n      <td>92.9</td>\n      <td>6.4</td>\n      <td>0.7</td>\n      <td>0.132587</td>\n      <td>94.8</td>\n    </tr>\n    <tr>\n      <th>2440</th>\n      <td>Zapata County</td>\n      <td>TX</td>\n      <td>0.5</td>\n      <td>93.5</td>\n      <td>5.8</td>\n      <td>0.2</td>\n      <td>0.122362</td>\n      <td>94.2</td>\n    </tr>\n    <tr>\n      <th>2720</th>\n      <td>Maverick County</td>\n      <td>TX</td>\n      <td>0.6</td>\n      <td>95.1</td>\n      <td>3.2</td>\n      <td>0.4</td>\n      <td>0.094273</td>\n      <td>96.1</td>\n    </tr>\n    <tr>\n      <th>2767</th>\n      <td>Webb County</td>\n      <td>TX</td>\n      <td>0.7</td>\n      <td>95.3</td>\n      <td>3.7</td>\n      <td>0.3</td>\n      <td>0.090279</td>\n      <td>96.3</td>\n    </tr>\n    <tr>\n      <th>2848</th>\n      <td>Starr County</td>\n      <td>TX</td>\n      <td>0.4</td>\n      <td>95.7</td>\n      <td>3.9</td>\n      <td>0.2</td>\n      <td>0.082592</td>\n      <td>96.3</td>\n    </tr>\n  </tbody>\n</table>\n<p>218 rows × 8 columns</p>\n</div>"
     },
     "metadata": {},
     "execution_count": 46
    }
   ],
   "source": [
    "df_Southern_DI_filtered"
   ]
  },
  {
   "cell_type": "code",
   "execution_count": 49,
   "metadata": {},
   "outputs": [],
   "source": [
    "#sorting values by the highest percentage points of the demographic we looking for\n",
    "df_Southern_DI_filtered = df_Southern_DI_filtered.sort_values(by =['Percent of Blacks, Latino & Two Races'], ascending = False)"
   ]
  },
  {
   "cell_type": "code",
   "execution_count": 50,
   "metadata": {},
   "outputs": [
    {
     "output_type": "execute_result",
     "data": {
      "text/plain": [
       "                County State  Black or African American alone, percent, 2013  \\\n",
       "2848      Starr County    TX                                             0.4   \n",
       "2767       Webb County    TX                                             0.7   \n",
       "2720   Maverick County    TX                                             0.6   \n",
       "2360     Zavala County    TX                                             1.2   \n",
       "2440     Zapata County    TX                                             0.5   \n",
       "...                ...   ...                                             ...   \n",
       "252      Dillon County    SC                                            46.5   \n",
       "242       Texas County    OK                                             3.3   \n",
       "22         Hoke County    NC                                            34.1   \n",
       "258     Terrell County    TX                                             1.2   \n",
       "502   Morehouse Parish    LA                                            47.8   \n",
       "\n",
       "      Hispanic or Latino, percent, 2013  \\\n",
       "2848                               95.7   \n",
       "2767                               95.3   \n",
       "2720                               95.1   \n",
       "2360                               92.9   \n",
       "2440                               93.5   \n",
       "...                                 ...   \n",
       "252                                 2.5   \n",
       "242                                45.7   \n",
       "22                                 12.2   \n",
       "258                                47.8   \n",
       "502                                 1.3   \n",
       "\n",
       "      White alone, not Hispanic or Latino, percent, 2013  \\\n",
       "2848                                                3.9    \n",
       "2767                                                3.7    \n",
       "2720                                                3.2    \n",
       "2360                                                6.4    \n",
       "2440                                                5.8    \n",
       "...                                                 ...    \n",
       "252                                                47.1    \n",
       "242                                                47.4    \n",
       "22                                                 41.4    \n",
       "258                                                45.8    \n",
       "502                                                49.8    \n",
       "\n",
       "      Two or More Races, percent, 2013  Diversity-Index  \\\n",
       "2848                               0.2         0.082592   \n",
       "2767                               0.3         0.090279   \n",
       "2720                               0.4         0.094273   \n",
       "2360                               0.7         0.132587   \n",
       "2440                               0.2         0.122362   \n",
       "...                                ...              ...   \n",
       "252                                1.8         0.560247   \n",
       "242                                1.7         0.563840   \n",
       "22                                 4.1         0.686301   \n",
       "258                                1.3         0.559170   \n",
       "502                                1.0         0.523222   \n",
       "\n",
       "      Percent of Blacks, Latino & Two Races  \n",
       "2848                                   96.3  \n",
       "2767                                   96.3  \n",
       "2720                                   96.1  \n",
       "2360                                   94.8  \n",
       "2440                                   94.2  \n",
       "...                                     ...  \n",
       "252                                    50.8  \n",
       "242                                    50.7  \n",
       "22                                     50.4  \n",
       "258                                    50.3  \n",
       "502                                    50.1  \n",
       "\n",
       "[218 rows x 8 columns]"
      ],
      "text/html": "<div>\n<style scoped>\n    .dataframe tbody tr th:only-of-type {\n        vertical-align: middle;\n    }\n\n    .dataframe tbody tr th {\n        vertical-align: top;\n    }\n\n    .dataframe thead th {\n        text-align: right;\n    }\n</style>\n<table border=\"1\" class=\"dataframe\">\n  <thead>\n    <tr style=\"text-align: right;\">\n      <th></th>\n      <th>County</th>\n      <th>State</th>\n      <th>Black or African American alone, percent, 2013</th>\n      <th>Hispanic or Latino, percent, 2013</th>\n      <th>White alone, not Hispanic or Latino, percent, 2013</th>\n      <th>Two or More Races, percent, 2013</th>\n      <th>Diversity-Index</th>\n      <th>Percent of Blacks, Latino &amp; Two Races</th>\n    </tr>\n  </thead>\n  <tbody>\n    <tr>\n      <th>2848</th>\n      <td>Starr County</td>\n      <td>TX</td>\n      <td>0.4</td>\n      <td>95.7</td>\n      <td>3.9</td>\n      <td>0.2</td>\n      <td>0.082592</td>\n      <td>96.3</td>\n    </tr>\n    <tr>\n      <th>2767</th>\n      <td>Webb County</td>\n      <td>TX</td>\n      <td>0.7</td>\n      <td>95.3</td>\n      <td>3.7</td>\n      <td>0.3</td>\n      <td>0.090279</td>\n      <td>96.3</td>\n    </tr>\n    <tr>\n      <th>2720</th>\n      <td>Maverick County</td>\n      <td>TX</td>\n      <td>0.6</td>\n      <td>95.1</td>\n      <td>3.2</td>\n      <td>0.4</td>\n      <td>0.094273</td>\n      <td>96.1</td>\n    </tr>\n    <tr>\n      <th>2360</th>\n      <td>Zavala County</td>\n      <td>TX</td>\n      <td>1.2</td>\n      <td>92.9</td>\n      <td>6.4</td>\n      <td>0.7</td>\n      <td>0.132587</td>\n      <td>94.8</td>\n    </tr>\n    <tr>\n      <th>2440</th>\n      <td>Zapata County</td>\n      <td>TX</td>\n      <td>0.5</td>\n      <td>93.5</td>\n      <td>5.8</td>\n      <td>0.2</td>\n      <td>0.122362</td>\n      <td>94.2</td>\n    </tr>\n    <tr>\n      <th>...</th>\n      <td>...</td>\n      <td>...</td>\n      <td>...</td>\n      <td>...</td>\n      <td>...</td>\n      <td>...</td>\n      <td>...</td>\n      <td>...</td>\n    </tr>\n    <tr>\n      <th>252</th>\n      <td>Dillon County</td>\n      <td>SC</td>\n      <td>46.5</td>\n      <td>2.5</td>\n      <td>47.1</td>\n      <td>1.8</td>\n      <td>0.560247</td>\n      <td>50.8</td>\n    </tr>\n    <tr>\n      <th>242</th>\n      <td>Texas County</td>\n      <td>OK</td>\n      <td>3.3</td>\n      <td>45.7</td>\n      <td>47.4</td>\n      <td>1.7</td>\n      <td>0.563840</td>\n      <td>50.7</td>\n    </tr>\n    <tr>\n      <th>22</th>\n      <td>Hoke County</td>\n      <td>NC</td>\n      <td>34.1</td>\n      <td>12.2</td>\n      <td>41.4</td>\n      <td>4.1</td>\n      <td>0.686301</td>\n      <td>50.4</td>\n    </tr>\n    <tr>\n      <th>258</th>\n      <td>Terrell County</td>\n      <td>TX</td>\n      <td>1.2</td>\n      <td>47.8</td>\n      <td>45.8</td>\n      <td>1.3</td>\n      <td>0.559170</td>\n      <td>50.3</td>\n    </tr>\n    <tr>\n      <th>502</th>\n      <td>Morehouse Parish</td>\n      <td>LA</td>\n      <td>47.8</td>\n      <td>1.3</td>\n      <td>49.8</td>\n      <td>1.0</td>\n      <td>0.523222</td>\n      <td>50.1</td>\n    </tr>\n  </tbody>\n</table>\n<p>218 rows × 8 columns</p>\n</div>"
     },
     "metadata": {},
     "execution_count": 50
    }
   ],
   "source": [
    "df_Southern_DI_filtered"
   ]
  },
  {
   "cell_type": "code",
   "execution_count": 51,
   "metadata": {},
   "outputs": [],
   "source": [
    "df_Southern_DI_filtered.to_csv(\"Southern_Minority_Counties.csv\", index= False)"
   ]
  },
  {
   "cell_type": "code",
   "execution_count": null,
   "metadata": {},
   "outputs": [],
   "source": []
  }
 ]
}