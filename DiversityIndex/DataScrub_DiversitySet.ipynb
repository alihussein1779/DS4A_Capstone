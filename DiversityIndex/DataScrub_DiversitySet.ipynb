{
 "metadata": {
  "language_info": {
   "codemirror_mode": {
    "name": "ipython",
    "version": 3
   },
   "file_extension": ".py",
   "mimetype": "text/x-python",
   "name": "python",
   "nbconvert_exporter": "python",
   "pygments_lexer": "ipython3",
   "version": "3.9.5"
  },
  "orig_nbformat": 4,
  "kernelspec": {
   "name": "python3",
   "display_name": "Python 3.9.5 64-bit"
  },
  "interpreter": {
   "hash": "427c0d07d7020fa15366b44f6c06d66dd78bc105f623e6ff7f91c3b98c679e25"
  }
 },
 "nbformat": 4,
 "nbformat_minor": 2,
 "cells": [
  {
   "cell_type": "code",
   "execution_count": 1,
   "metadata": {},
   "outputs": [],
   "source": [
    "import pandas as pd"
   ]
  },
  {
   "cell_type": "code",
   "execution_count": 2,
   "metadata": {},
   "outputs": [],
   "source": [
    "df = pd.read_csv(\"diversityindex.csv\")"
   ]
  },
  {
   "cell_type": "code",
   "execution_count": 3,
   "metadata": {},
   "outputs": [
    {
     "output_type": "execute_result",
     "data": {
      "text/plain": [
       "                         Location  Diversity-Index  \\\n",
       "0  Aleutians West Census Area, AK         0.769346   \n",
       "1               Queens County, NY         0.742224   \n",
       "2                 Maui County, HI         0.740757   \n",
       "3              Alameda County, CA         0.740399   \n",
       "4      Aleutians East Borough, AK         0.738867   \n",
       "\n",
       "   Black or African American alone, percent, 2013  \\\n",
       "0                                             7.4   \n",
       "1                                            20.9   \n",
       "2                                             0.8   \n",
       "3                                            12.4   \n",
       "4                                             7.7   \n",
       "\n",
       "   American Indian and Alaska Native alone, percent, 2013  \\\n",
       "0                                               13.8        \n",
       "1                                                1.3        \n",
       "2                                                0.6        \n",
       "3                                                1.2        \n",
       "4                                               21.8        \n",
       "\n",
       "   Asian alone, percent, 2013  \\\n",
       "0                        31.1   \n",
       "1                        25.2   \n",
       "2                        28.8   \n",
       "3                        28.2   \n",
       "4                        41.4   \n",
       "\n",
       "   Native Hawaiian and Other Pacific Islander alone, percent,  \\\n",
       "0                                                2.3            \n",
       "1                                                0.2            \n",
       "2                                               10.6            \n",
       "3                                                1.0            \n",
       "4                                                0.7            \n",
       "\n",
       "   Two or More Races, percent, 2013  Hispanic or Latino, percent, 2013  \\\n",
       "0                               4.8                               14.6   \n",
       "1                               2.7                               28.0   \n",
       "2                              23.3                               10.7   \n",
       "3                               5.2                               22.7   \n",
       "4                               3.7                               13.5   \n",
       "\n",
       "   White alone, not Hispanic or Latino, percent, 2013  \n",
       "0                                               29.2   \n",
       "1                                               26.7   \n",
       "2                                               31.5   \n",
       "3                                               33.2   \n",
       "4                                               12.9   "
      ],
      "text/html": "<div>\n<style scoped>\n    .dataframe tbody tr th:only-of-type {\n        vertical-align: middle;\n    }\n\n    .dataframe tbody tr th {\n        vertical-align: top;\n    }\n\n    .dataframe thead th {\n        text-align: right;\n    }\n</style>\n<table border=\"1\" class=\"dataframe\">\n  <thead>\n    <tr style=\"text-align: right;\">\n      <th></th>\n      <th>Location</th>\n      <th>Diversity-Index</th>\n      <th>Black or African American alone, percent, 2013</th>\n      <th>American Indian and Alaska Native alone, percent, 2013</th>\n      <th>Asian alone, percent, 2013</th>\n      <th>Native Hawaiian and Other Pacific Islander alone, percent,</th>\n      <th>Two or More Races, percent, 2013</th>\n      <th>Hispanic or Latino, percent, 2013</th>\n      <th>White alone, not Hispanic or Latino, percent, 2013</th>\n    </tr>\n  </thead>\n  <tbody>\n    <tr>\n      <th>0</th>\n      <td>Aleutians West Census Area, AK</td>\n      <td>0.769346</td>\n      <td>7.4</td>\n      <td>13.8</td>\n      <td>31.1</td>\n      <td>2.3</td>\n      <td>4.8</td>\n      <td>14.6</td>\n      <td>29.2</td>\n    </tr>\n    <tr>\n      <th>1</th>\n      <td>Queens County, NY</td>\n      <td>0.742224</td>\n      <td>20.9</td>\n      <td>1.3</td>\n      <td>25.2</td>\n      <td>0.2</td>\n      <td>2.7</td>\n      <td>28.0</td>\n      <td>26.7</td>\n    </tr>\n    <tr>\n      <th>2</th>\n      <td>Maui County, HI</td>\n      <td>0.740757</td>\n      <td>0.8</td>\n      <td>0.6</td>\n      <td>28.8</td>\n      <td>10.6</td>\n      <td>23.3</td>\n      <td>10.7</td>\n      <td>31.5</td>\n    </tr>\n    <tr>\n      <th>3</th>\n      <td>Alameda County, CA</td>\n      <td>0.740399</td>\n      <td>12.4</td>\n      <td>1.2</td>\n      <td>28.2</td>\n      <td>1.0</td>\n      <td>5.2</td>\n      <td>22.7</td>\n      <td>33.2</td>\n    </tr>\n    <tr>\n      <th>4</th>\n      <td>Aleutians East Borough, AK</td>\n      <td>0.738867</td>\n      <td>7.7</td>\n      <td>21.8</td>\n      <td>41.4</td>\n      <td>0.7</td>\n      <td>3.7</td>\n      <td>13.5</td>\n      <td>12.9</td>\n    </tr>\n  </tbody>\n</table>\n</div>"
     },
     "metadata": {},
     "execution_count": 3
    }
   ],
   "source": [
    "df.head()"
   ]
  },
  {
   "cell_type": "code",
   "execution_count": 4,
   "metadata": {},
   "outputs": [
    {
     "output_type": "execute_result",
     "data": {
      "text/plain": [
       "<bound method NDFrame.describe of                             Location  Diversity-Index  \\\n",
       "0     Aleutians West Census Area, AK         0.769346   \n",
       "1                  Queens County, NY         0.742224   \n",
       "2                    Maui County, HI         0.740757   \n",
       "3                 Alameda County, CA         0.740399   \n",
       "4         Aleutians East Borough, AK         0.738867   \n",
       "...                              ...              ...   \n",
       "3190                Osage County, MO         0.037540   \n",
       "3191              Lincoln County, WV         0.035585   \n",
       "3192               Leslie County, KY         0.035581   \n",
       "3193               Blaine County, NE         0.023784   \n",
       "3194            Keya Paha County, NE         0.021816   \n",
       "\n",
       "      Black or African American alone, percent, 2013  \\\n",
       "0                                                7.4   \n",
       "1                                               20.9   \n",
       "2                                                0.8   \n",
       "3                                               12.4   \n",
       "4                                                7.7   \n",
       "...                                              ...   \n",
       "3190                                             0.3   \n",
       "3191                                             0.2   \n",
       "3192                                             0.4   \n",
       "3193                                             0.2   \n",
       "3194                                             0.0   \n",
       "\n",
       "      American Indian and Alaska Native alone, percent, 2013  \\\n",
       "0                                                  13.8        \n",
       "1                                                   1.3        \n",
       "2                                                   0.6        \n",
       "3                                                   1.2        \n",
       "4                                                  21.8        \n",
       "...                                                 ...        \n",
       "3190                                                0.2        \n",
       "3191                                                0.1        \n",
       "3192                                                0.1        \n",
       "3193                                                0.0        \n",
       "3194                                                0.1        \n",
       "\n",
       "      Asian alone, percent, 2013  \\\n",
       "0                           31.1   \n",
       "1                           25.2   \n",
       "2                           28.8   \n",
       "3                           28.2   \n",
       "4                           41.4   \n",
       "...                          ...   \n",
       "3190                         0.1   \n",
       "3191                         0.1   \n",
       "3192                         0.2   \n",
       "3193                         0.0   \n",
       "3194                         0.1   \n",
       "\n",
       "      Native Hawaiian and Other Pacific Islander alone, percent,  \\\n",
       "0                                                   2.3            \n",
       "1                                                   0.2            \n",
       "2                                                  10.6            \n",
       "3                                                   1.0            \n",
       "4                                                   0.7            \n",
       "...                                                 ...            \n",
       "3190                                                0.0            \n",
       "3191                                                0.0            \n",
       "3192                                                0.0            \n",
       "3193                                                0.0            \n",
       "3194                                                0.0            \n",
       "\n",
       "      Two or More Races, percent, 2013  Hispanic or Latino, percent, 2013  \\\n",
       "0                                  4.8                               14.6   \n",
       "1                                  2.7                               28.0   \n",
       "2                                 23.3                               10.7   \n",
       "3                                  5.2                               22.7   \n",
       "4                                  3.7                               13.5   \n",
       "...                                ...                                ...   \n",
       "3190                               0.7                                0.6   \n",
       "3191                               0.7                                0.6   \n",
       "3192                               0.7                                0.5   \n",
       "3193                               0.8                                0.2   \n",
       "3194                               0.6                                0.5   \n",
       "\n",
       "      White alone, not Hispanic or Latino, percent, 2013  \n",
       "0                                                  29.2   \n",
       "1                                                  26.7   \n",
       "2                                                  31.5   \n",
       "3                                                  33.2   \n",
       "4                                                  12.9   \n",
       "...                                                 ...   \n",
       "3190                                               98.1   \n",
       "3191                                               98.2   \n",
       "3192                                               98.2   \n",
       "3193                                               98.8   \n",
       "3194                                               98.9   \n",
       "\n",
       "[3195 rows x 9 columns]>"
      ]
     },
     "metadata": {},
     "execution_count": 4
    }
   ],
   "source": [
    "df.describe"
   ]
  },
  {
   "cell_type": "code",
   "execution_count": 6,
   "metadata": {},
   "outputs": [],
   "source": [
    "#split the county column into county and state\n",
    "#using the split value for this\n",
    "\n",
    "df[['County','State']] = df.Location.str.split(\",\", expand= True)"
   ]
  },
  {
   "cell_type": "code",
   "execution_count": 7,
   "metadata": {},
   "outputs": [
    {
     "output_type": "execute_result",
     "data": {
      "text/plain": [
       "                         Location  Diversity-Index  \\\n",
       "0  Aleutians West Census Area, AK         0.769346   \n",
       "1               Queens County, NY         0.742224   \n",
       "2                 Maui County, HI         0.740757   \n",
       "3              Alameda County, CA         0.740399   \n",
       "4      Aleutians East Borough, AK         0.738867   \n",
       "\n",
       "   Black or African American alone, percent, 2013  \\\n",
       "0                                             7.4   \n",
       "1                                            20.9   \n",
       "2                                             0.8   \n",
       "3                                            12.4   \n",
       "4                                             7.7   \n",
       "\n",
       "   American Indian and Alaska Native alone, percent, 2013  \\\n",
       "0                                               13.8        \n",
       "1                                                1.3        \n",
       "2                                                0.6        \n",
       "3                                                1.2        \n",
       "4                                               21.8        \n",
       "\n",
       "   Asian alone, percent, 2013  \\\n",
       "0                        31.1   \n",
       "1                        25.2   \n",
       "2                        28.8   \n",
       "3                        28.2   \n",
       "4                        41.4   \n",
       "\n",
       "   Native Hawaiian and Other Pacific Islander alone, percent,  \\\n",
       "0                                                2.3            \n",
       "1                                                0.2            \n",
       "2                                               10.6            \n",
       "3                                                1.0            \n",
       "4                                                0.7            \n",
       "\n",
       "   Two or More Races, percent, 2013  Hispanic or Latino, percent, 2013  \\\n",
       "0                               4.8                               14.6   \n",
       "1                               2.7                               28.0   \n",
       "2                              23.3                               10.7   \n",
       "3                               5.2                               22.7   \n",
       "4                               3.7                               13.5   \n",
       "\n",
       "   White alone, not Hispanic or Latino, percent, 2013  \\\n",
       "0                                               29.2    \n",
       "1                                               26.7    \n",
       "2                                               31.5    \n",
       "3                                               33.2    \n",
       "4                                               12.9    \n",
       "\n",
       "                       County State  \n",
       "0  Aleutians West Census Area    AK  \n",
       "1               Queens County    NY  \n",
       "2                 Maui County    HI  \n",
       "3              Alameda County    CA  \n",
       "4      Aleutians East Borough    AK  "
      ],
      "text/html": "<div>\n<style scoped>\n    .dataframe tbody tr th:only-of-type {\n        vertical-align: middle;\n    }\n\n    .dataframe tbody tr th {\n        vertical-align: top;\n    }\n\n    .dataframe thead th {\n        text-align: right;\n    }\n</style>\n<table border=\"1\" class=\"dataframe\">\n  <thead>\n    <tr style=\"text-align: right;\">\n      <th></th>\n      <th>Location</th>\n      <th>Diversity-Index</th>\n      <th>Black or African American alone, percent, 2013</th>\n      <th>American Indian and Alaska Native alone, percent, 2013</th>\n      <th>Asian alone, percent, 2013</th>\n      <th>Native Hawaiian and Other Pacific Islander alone, percent,</th>\n      <th>Two or More Races, percent, 2013</th>\n      <th>Hispanic or Latino, percent, 2013</th>\n      <th>White alone, not Hispanic or Latino, percent, 2013</th>\n      <th>County</th>\n      <th>State</th>\n    </tr>\n  </thead>\n  <tbody>\n    <tr>\n      <th>0</th>\n      <td>Aleutians West Census Area, AK</td>\n      <td>0.769346</td>\n      <td>7.4</td>\n      <td>13.8</td>\n      <td>31.1</td>\n      <td>2.3</td>\n      <td>4.8</td>\n      <td>14.6</td>\n      <td>29.2</td>\n      <td>Aleutians West Census Area</td>\n      <td>AK</td>\n    </tr>\n    <tr>\n      <th>1</th>\n      <td>Queens County, NY</td>\n      <td>0.742224</td>\n      <td>20.9</td>\n      <td>1.3</td>\n      <td>25.2</td>\n      <td>0.2</td>\n      <td>2.7</td>\n      <td>28.0</td>\n      <td>26.7</td>\n      <td>Queens County</td>\n      <td>NY</td>\n    </tr>\n    <tr>\n      <th>2</th>\n      <td>Maui County, HI</td>\n      <td>0.740757</td>\n      <td>0.8</td>\n      <td>0.6</td>\n      <td>28.8</td>\n      <td>10.6</td>\n      <td>23.3</td>\n      <td>10.7</td>\n      <td>31.5</td>\n      <td>Maui County</td>\n      <td>HI</td>\n    </tr>\n    <tr>\n      <th>3</th>\n      <td>Alameda County, CA</td>\n      <td>0.740399</td>\n      <td>12.4</td>\n      <td>1.2</td>\n      <td>28.2</td>\n      <td>1.0</td>\n      <td>5.2</td>\n      <td>22.7</td>\n      <td>33.2</td>\n      <td>Alameda County</td>\n      <td>CA</td>\n    </tr>\n    <tr>\n      <th>4</th>\n      <td>Aleutians East Borough, AK</td>\n      <td>0.738867</td>\n      <td>7.7</td>\n      <td>21.8</td>\n      <td>41.4</td>\n      <td>0.7</td>\n      <td>3.7</td>\n      <td>13.5</td>\n      <td>12.9</td>\n      <td>Aleutians East Borough</td>\n      <td>AK</td>\n    </tr>\n  </tbody>\n</table>\n</div>"
     },
     "metadata": {},
     "execution_count": 7
    }
   ],
   "source": [
    "df.head()"
   ]
  },
  {
   "cell_type": "code",
   "execution_count": 8,
   "metadata": {},
   "outputs": [
    {
     "output_type": "execute_result",
     "data": {
      "text/plain": [
       "Index(['Location', 'Diversity-Index',\n",
       "       'Black or African American alone, percent, 2013',\n",
       "       'American Indian and Alaska Native alone, percent, 2013',\n",
       "       'Asian alone, percent, 2013',\n",
       "       'Native Hawaiian and Other Pacific Islander alone, percent,',\n",
       "       'Two or More Races, percent, 2013', 'Hispanic or Latino, percent, 2013',\n",
       "       'White alone, not Hispanic or Latino, percent, 2013', 'County',\n",
       "       'State'],\n",
       "      dtype='object')"
      ]
     },
     "metadata": {},
     "execution_count": 8
    }
   ],
   "source": [
    "df.columns"
   ]
  },
  {
   "cell_type": "code",
   "execution_count": 18,
   "metadata": {},
   "outputs": [],
   "source": [
    "#since we have 9 columns , we can manually change the columns with the ones we want\n",
    "#as we want to make sure we have an original safe, we will use .copy to preserve original states\n",
    "\n",
    "df_reorder = df[['County','State','Black or African American alone, percent, 2013','Hispanic or Latino, percent, 2013','White alone, not Hispanic or Latino, percent, 2013','Two or More Races, percent, 2013','Diversity-Index'\n",
    "]]"
   ]
  },
  {
   "cell_type": "code",
   "execution_count": 20,
   "metadata": {},
   "outputs": [
    {
     "output_type": "execute_result",
     "data": {
      "text/plain": [
       "                       County State  \\\n",
       "0  Aleutians West Census Area    AK   \n",
       "1               Queens County    NY   \n",
       "2                 Maui County    HI   \n",
       "3              Alameda County    CA   \n",
       "4      Aleutians East Borough    AK   \n",
       "\n",
       "   Black or African American alone, percent, 2013  \\\n",
       "0                                             7.4   \n",
       "1                                            20.9   \n",
       "2                                             0.8   \n",
       "3                                            12.4   \n",
       "4                                             7.7   \n",
       "\n",
       "   Hispanic or Latino, percent, 2013  \\\n",
       "0                               14.6   \n",
       "1                               28.0   \n",
       "2                               10.7   \n",
       "3                               22.7   \n",
       "4                               13.5   \n",
       "\n",
       "   White alone, not Hispanic or Latino, percent, 2013  \\\n",
       "0                                               29.2    \n",
       "1                                               26.7    \n",
       "2                                               31.5    \n",
       "3                                               33.2    \n",
       "4                                               12.9    \n",
       "\n",
       "   Two or More Races, percent, 2013  Diversity-Index  \n",
       "0                               4.8         0.769346  \n",
       "1                               2.7         0.742224  \n",
       "2                              23.3         0.740757  \n",
       "3                               5.2         0.740399  \n",
       "4                               3.7         0.738867  "
      ],
      "text/html": "<div>\n<style scoped>\n    .dataframe tbody tr th:only-of-type {\n        vertical-align: middle;\n    }\n\n    .dataframe tbody tr th {\n        vertical-align: top;\n    }\n\n    .dataframe thead th {\n        text-align: right;\n    }\n</style>\n<table border=\"1\" class=\"dataframe\">\n  <thead>\n    <tr style=\"text-align: right;\">\n      <th></th>\n      <th>County</th>\n      <th>State</th>\n      <th>Black or African American alone, percent, 2013</th>\n      <th>Hispanic or Latino, percent, 2013</th>\n      <th>White alone, not Hispanic or Latino, percent, 2013</th>\n      <th>Two or More Races, percent, 2013</th>\n      <th>Diversity-Index</th>\n    </tr>\n  </thead>\n  <tbody>\n    <tr>\n      <th>0</th>\n      <td>Aleutians West Census Area</td>\n      <td>AK</td>\n      <td>7.4</td>\n      <td>14.6</td>\n      <td>29.2</td>\n      <td>4.8</td>\n      <td>0.769346</td>\n    </tr>\n    <tr>\n      <th>1</th>\n      <td>Queens County</td>\n      <td>NY</td>\n      <td>20.9</td>\n      <td>28.0</td>\n      <td>26.7</td>\n      <td>2.7</td>\n      <td>0.742224</td>\n    </tr>\n    <tr>\n      <th>2</th>\n      <td>Maui County</td>\n      <td>HI</td>\n      <td>0.8</td>\n      <td>10.7</td>\n      <td>31.5</td>\n      <td>23.3</td>\n      <td>0.740757</td>\n    </tr>\n    <tr>\n      <th>3</th>\n      <td>Alameda County</td>\n      <td>CA</td>\n      <td>12.4</td>\n      <td>22.7</td>\n      <td>33.2</td>\n      <td>5.2</td>\n      <td>0.740399</td>\n    </tr>\n    <tr>\n      <th>4</th>\n      <td>Aleutians East Borough</td>\n      <td>AK</td>\n      <td>7.7</td>\n      <td>13.5</td>\n      <td>12.9</td>\n      <td>3.7</td>\n      <td>0.738867</td>\n    </tr>\n  </tbody>\n</table>\n</div>"
     },
     "metadata": {},
     "execution_count": 20
    }
   ],
   "source": [
    "df_reorder.head()"
   ]
  },
  {
   "cell_type": "code",
   "execution_count": 21,
   "metadata": {},
   "outputs": [
    {
     "output_type": "execute_result",
     "data": {
      "text/plain": [
       "<bound method NDFrame.describe of                           County State  \\\n",
       "0     Aleutians West Census Area    AK   \n",
       "1                  Queens County    NY   \n",
       "2                    Maui County    HI   \n",
       "3                 Alameda County    CA   \n",
       "4         Aleutians East Borough    AK   \n",
       "...                          ...   ...   \n",
       "3190                Osage County    MO   \n",
       "3191              Lincoln County    WV   \n",
       "3192               Leslie County    KY   \n",
       "3193               Blaine County    NE   \n",
       "3194            Keya Paha County    NE   \n",
       "\n",
       "      Black or African American alone, percent, 2013  \\\n",
       "0                                                7.4   \n",
       "1                                               20.9   \n",
       "2                                                0.8   \n",
       "3                                               12.4   \n",
       "4                                                7.7   \n",
       "...                                              ...   \n",
       "3190                                             0.3   \n",
       "3191                                             0.2   \n",
       "3192                                             0.4   \n",
       "3193                                             0.2   \n",
       "3194                                             0.0   \n",
       "\n",
       "      Hispanic or Latino, percent, 2013  \\\n",
       "0                                  14.6   \n",
       "1                                  28.0   \n",
       "2                                  10.7   \n",
       "3                                  22.7   \n",
       "4                                  13.5   \n",
       "...                                 ...   \n",
       "3190                                0.6   \n",
       "3191                                0.6   \n",
       "3192                                0.5   \n",
       "3193                                0.2   \n",
       "3194                                0.5   \n",
       "\n",
       "      White alone, not Hispanic or Latino, percent, 2013  \\\n",
       "0                                                  29.2    \n",
       "1                                                  26.7    \n",
       "2                                                  31.5    \n",
       "3                                                  33.2    \n",
       "4                                                  12.9    \n",
       "...                                                 ...    \n",
       "3190                                               98.1    \n",
       "3191                                               98.2    \n",
       "3192                                               98.2    \n",
       "3193                                               98.8    \n",
       "3194                                               98.9    \n",
       "\n",
       "      Two or More Races, percent, 2013  Diversity-Index  \n",
       "0                                  4.8         0.769346  \n",
       "1                                  2.7         0.742224  \n",
       "2                                 23.3         0.740757  \n",
       "3                                  5.2         0.740399  \n",
       "4                                  3.7         0.738867  \n",
       "...                                ...              ...  \n",
       "3190                               0.7         0.037540  \n",
       "3191                               0.7         0.035585  \n",
       "3192                               0.7         0.035581  \n",
       "3193                               0.8         0.023784  \n",
       "3194                               0.6         0.021816  \n",
       "\n",
       "[3195 rows x 7 columns]>"
      ]
     },
     "metadata": {},
     "execution_count": 21
    }
   ],
   "source": [
    "#renaming some of the columns\n",
    "\n",
    "df_reorder.describe"
   ]
  },
  {
   "cell_type": "code",
   "execution_count": null,
   "metadata": {},
   "outputs": [],
   "source": []
  }
 ]
}
