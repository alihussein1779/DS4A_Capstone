{
 "cells": [
  {
   "cell_type": "markdown",
   "id": "fbd9a542",
   "metadata": {},
   "source": [
    "# Forecasting of global vertical market growth and changes in price of most common vertical farming crops"
   ]
  },
  {
   "cell_type": "markdown",
   "id": "1936f338",
   "metadata": {},
   "source": [
    "## Farming analysis budget and revenue"
   ]
  },
  {
   "cell_type": "markdown",
   "id": "1ba0d90f",
   "metadata": {},
   "source": [
    "### Through research, an estimate of \\\\$1.52 per pound of produce annually in general is expected for growing costs over the span of years.\n",
    "\n"
   ]
  },
  {
   "cell_type": "markdown",
   "id": "749559b8",
   "metadata": {},
   "source": [
    "##### This analysis is carried out based on the results of the Houston Vertical Farm Case Study, with estimates based on consistent results and little repair and replacement to equipment."
   ]
  },
  {
   "cell_type": "code",
   "execution_count": 12,
   "id": "9e9d4bcf",
   "metadata": {},
   "outputs": [],
   "source": [
    "import pandas as pd\n",
    "import numpy as np\n",
    "import seaborn as sns"
   ]
  },
  {
   "cell_type": "code",
   "execution_count": 2,
   "id": "1b694d65",
   "metadata": {},
   "outputs": [
    {
     "name": "stdout",
     "output_type": "stream",
     "text": [
      "2103.75 40466.25 64803.0\n"
     ]
    }
   ],
   "source": [
    "\"\"\" Crops to be grown in the Houston Vertical Farm:Tomatoes, Cucumbers and Lettuce\n",
    "    Size of vertical farm: 562.5 sq ft to 1500 sq. ft\n",
    "\"\"\"\n",
    "\n",
    "\"\"\" low and high are the total yearly pounds of produce \"\"\"\n",
    "\n",
    "# The number is multipled by 2 because the specifiec location would have 2 floors dedicated to vertical farming\n",
    "\n",
    "Tomato = 1.02  * (562.5 and 1500)\n",
    "Tomato_low = 573.75\n",
    "Tomato_high = 1530\n",
    "Tomato_avg = ((Tomato_low + Tomato_high)/2) * 2\n",
    "\n",
    "Lettuce = 19.62  * (562.5 and 1500) \n",
    "Lettuce_low = 11036.25\n",
    "Lettuce_high =29430\n",
    "Lettuce_avg = ((Lettuce_low + Lettuce_high)/2)*2\n",
    "\n",
    "Cucumber = 31.42  * (562.5 and 1500) \n",
    "Cucumber_low = 17673\n",
    "Cucumber_high = 47130\n",
    "Cucumber_avg = ((Cucumber_low + Cucumber_high)/2) *2\n",
    "\n",
    "\n",
    "\n",
    "\n",
    "\"\"\" from the second year onwards, there is an expected fee of $1.52 per pound annually\n",
    "    where the cost breakdown is similar to the general breakdown of the budget.\n",
    "\"\"\"\n",
    "\n",
    "print(Tomato_avg, Lettuce_avg, Cucumber_avg)"
   ]
  },
  {
   "cell_type": "markdown",
   "id": "165bd1ba",
   "metadata": {},
   "source": [
    "With the above total averages of annual pounds of produce, we are able to set a price and thus have an idea of expected revenue within the first year."
   ]
  },
  {
   "cell_type": "code",
   "execution_count": 3,
   "id": "a5e3daac",
   "metadata": {},
   "outputs": [
    {
     "name": "stdout",
     "output_type": "stream",
     "text": [
      "$ 3976.0874999999996 $ 53955.0 $ 84243.90000000001\n",
      "The total revenue would be $ 142174.98750000002\n"
     ]
    }
   ],
   "source": [
    "\"\"\"\n",
    "Prices:\n",
    "Tomato = $ 1.89 per pound\n",
    "Lettuce = $ 2 per head , where a head is on average 1.5 pounds \n",
    "Cucumber = $ 1.30 per pound on average, and $ 0.5 per cucumber \n",
    "\"\"\"\n",
    "\n",
    "#tomato\n",
    "Tomato_yearly_revenue= Tomato_avg * 1.89\n",
    "\n",
    "\n",
    "#lettuce\n",
    "Lettuce_yearly_revenue = (Lettuce_avg/1.5)*2\n",
    "\n",
    "#cucumber\n",
    "Cucumber_yearly_revenue = Cucumber_avg * 1.3\n",
    "\n",
    "print (\"$\",Tomato_yearly_revenue, \"$\",Lettuce_yearly_revenue, \"$\",Cucumber_yearly_revenue)\n",
    "print( \"The total revenue would be\",\"$\",(Tomato_yearly_revenue+Lettuce_yearly_revenue+Cucumber_yearly_revenue))"
   ]
  },
  {
   "cell_type": "code",
   "execution_count": 6,
   "id": "ff1bd640",
   "metadata": {},
   "outputs": [],
   "source": [
    "tomato_price = pd.read_csv(\"Tomato_historical_price.csv\").dropna()\n",
    "lettuce_price = pd.read_csv(\"Lettuce_historical_data_complete.csv\").dropna()\n",
    "cucumber_price = pd.read_csv(\"Cucumber_historical_price.csv\").dropna()"
   ]
  },
  {
   "cell_type": "code",
   "execution_count": 7,
   "id": "c2bc5d59",
   "metadata": {},
   "outputs": [
    {
     "data": {
      "text/html": [
       "<div>\n",
       "<style scoped>\n",
       "    .dataframe tbody tr th:only-of-type {\n",
       "        vertical-align: middle;\n",
       "    }\n",
       "\n",
       "    .dataframe tbody tr th {\n",
       "        vertical-align: top;\n",
       "    }\n",
       "\n",
       "    .dataframe thead th {\n",
       "        text-align: right;\n",
       "    }\n",
       "</style>\n",
       "<table border=\"1\" class=\"dataframe\">\n",
       "  <thead>\n",
       "    <tr style=\"text-align: right;\">\n",
       "      <th></th>\n",
       "      <th>DATE</th>\n",
       "      <th>Price_($)</th>\n",
       "    </tr>\n",
       "  </thead>\n",
       "  <tbody>\n",
       "    <tr>\n",
       "      <th>0</th>\n",
       "      <td>1980-01-01</td>\n",
       "      <td>0.703</td>\n",
       "    </tr>\n",
       "    <tr>\n",
       "      <th>1</th>\n",
       "      <td>1980-02-01</td>\n",
       "      <td>0.586</td>\n",
       "    </tr>\n",
       "    <tr>\n",
       "      <th>2</th>\n",
       "      <td>1980-03-01</td>\n",
       "      <td>0.642</td>\n",
       "    </tr>\n",
       "    <tr>\n",
       "      <th>3</th>\n",
       "      <td>1980-04-01</td>\n",
       "      <td>0.634</td>\n",
       "    </tr>\n",
       "    <tr>\n",
       "      <th>4</th>\n",
       "      <td>1980-05-01</td>\n",
       "      <td>0.737</td>\n",
       "    </tr>\n",
       "    <tr>\n",
       "      <th>5</th>\n",
       "      <td>1980-06-01</td>\n",
       "      <td>0.745</td>\n",
       "    </tr>\n",
       "    <tr>\n",
       "      <th>6</th>\n",
       "      <td>1980-07-01</td>\n",
       "      <td>0.683</td>\n",
       "    </tr>\n",
       "    <tr>\n",
       "      <th>7</th>\n",
       "      <td>1980-08-01</td>\n",
       "      <td>0.646</td>\n",
       "    </tr>\n",
       "    <tr>\n",
       "      <th>8</th>\n",
       "      <td>1980-09-01</td>\n",
       "      <td>0.679</td>\n",
       "    </tr>\n",
       "    <tr>\n",
       "      <th>9</th>\n",
       "      <td>1980-10-01</td>\n",
       "      <td>0.764</td>\n",
       "    </tr>\n",
       "    <tr>\n",
       "      <th>10</th>\n",
       "      <td>1980-11-01</td>\n",
       "      <td>0.603</td>\n",
       "    </tr>\n",
       "    <tr>\n",
       "      <th>11</th>\n",
       "      <td>1980-12-01</td>\n",
       "      <td>0.662</td>\n",
       "    </tr>\n",
       "    <tr>\n",
       "      <th>12</th>\n",
       "      <td>1981-01-01</td>\n",
       "      <td>0.792</td>\n",
       "    </tr>\n",
       "    <tr>\n",
       "      <th>13</th>\n",
       "      <td>1981-02-01</td>\n",
       "      <td>1.016</td>\n",
       "    </tr>\n",
       "    <tr>\n",
       "      <th>14</th>\n",
       "      <td>1981-03-01</td>\n",
       "      <td>1.166</td>\n",
       "    </tr>\n",
       "    <tr>\n",
       "      <th>15</th>\n",
       "      <td>1981-04-01</td>\n",
       "      <td>1.201</td>\n",
       "    </tr>\n",
       "    <tr>\n",
       "      <th>16</th>\n",
       "      <td>1981-05-01</td>\n",
       "      <td>0.607</td>\n",
       "    </tr>\n",
       "    <tr>\n",
       "      <th>17</th>\n",
       "      <td>1981-06-01</td>\n",
       "      <td>0.639</td>\n",
       "    </tr>\n",
       "    <tr>\n",
       "      <th>18</th>\n",
       "      <td>1981-07-01</td>\n",
       "      <td>0.614</td>\n",
       "    </tr>\n",
       "    <tr>\n",
       "      <th>19</th>\n",
       "      <td>1981-08-01</td>\n",
       "      <td>0.659</td>\n",
       "    </tr>\n",
       "  </tbody>\n",
       "</table>\n",
       "</div>"
      ],
      "text/plain": [
       "          DATE  Price_($)\n",
       "0   1980-01-01      0.703\n",
       "1   1980-02-01      0.586\n",
       "2   1980-03-01      0.642\n",
       "3   1980-04-01      0.634\n",
       "4   1980-05-01      0.737\n",
       "5   1980-06-01      0.745\n",
       "6   1980-07-01      0.683\n",
       "7   1980-08-01      0.646\n",
       "8   1980-09-01      0.679\n",
       "9   1980-10-01      0.764\n",
       "10  1980-11-01      0.603\n",
       "11  1980-12-01      0.662\n",
       "12  1981-01-01      0.792\n",
       "13  1981-02-01      1.016\n",
       "14  1981-03-01      1.166\n",
       "15  1981-04-01      1.201\n",
       "16  1981-05-01      0.607\n",
       "17  1981-06-01      0.639\n",
       "18  1981-07-01      0.614\n",
       "19  1981-08-01      0.659"
      ]
     },
     "execution_count": 7,
     "metadata": {},
     "output_type": "execute_result"
    }
   ],
   "source": [
    "tomato_price.head(20)"
   ]
  },
  {
   "cell_type": "code",
   "execution_count": 8,
   "id": "6156b6c6",
   "metadata": {},
   "outputs": [
    {
     "data": {
      "text/html": [
       "<div>\n",
       "<style scoped>\n",
       "    .dataframe tbody tr th:only-of-type {\n",
       "        vertical-align: middle;\n",
       "    }\n",
       "\n",
       "    .dataframe tbody tr th {\n",
       "        vertical-align: top;\n",
       "    }\n",
       "\n",
       "    .dataframe thead th {\n",
       "        text-align: right;\n",
       "    }\n",
       "</style>\n",
       "<table border=\"1\" class=\"dataframe\">\n",
       "  <thead>\n",
       "    <tr style=\"text-align: right;\">\n",
       "      <th></th>\n",
       "      <th>DATE</th>\n",
       "      <th>Price_($)</th>\n",
       "    </tr>\n",
       "  </thead>\n",
       "  <tbody>\n",
       "    <tr>\n",
       "      <th>150</th>\n",
       "      <td>2018-07-01</td>\n",
       "      <td>2.056</td>\n",
       "    </tr>\n",
       "    <tr>\n",
       "      <th>151</th>\n",
       "      <td>2018-08-01</td>\n",
       "      <td>2.043</td>\n",
       "    </tr>\n",
       "    <tr>\n",
       "      <th>152</th>\n",
       "      <td>2018-09-01</td>\n",
       "      <td>2.058</td>\n",
       "    </tr>\n",
       "    <tr>\n",
       "      <th>153</th>\n",
       "      <td>2018-10-01</td>\n",
       "      <td>2.132</td>\n",
       "    </tr>\n",
       "    <tr>\n",
       "      <th>154</th>\n",
       "      <td>2018-11-01</td>\n",
       "      <td>2.170</td>\n",
       "    </tr>\n",
       "    <tr>\n",
       "      <th>155</th>\n",
       "      <td>2018-12-01</td>\n",
       "      <td>2.352</td>\n",
       "    </tr>\n",
       "    <tr>\n",
       "      <th>156</th>\n",
       "      <td>2019-01-01</td>\n",
       "      <td>2.177</td>\n",
       "    </tr>\n",
       "    <tr>\n",
       "      <th>157</th>\n",
       "      <td>2019-02-01</td>\n",
       "      <td>2.300</td>\n",
       "    </tr>\n",
       "    <tr>\n",
       "      <th>158</th>\n",
       "      <td>2019-03-01</td>\n",
       "      <td>2.356</td>\n",
       "    </tr>\n",
       "    <tr>\n",
       "      <th>159</th>\n",
       "      <td>2019-04-01</td>\n",
       "      <td>2.300</td>\n",
       "    </tr>\n",
       "    <tr>\n",
       "      <th>160</th>\n",
       "      <td>2019-05-01</td>\n",
       "      <td>2.190</td>\n",
       "    </tr>\n",
       "    <tr>\n",
       "      <th>161</th>\n",
       "      <td>2019-06-01</td>\n",
       "      <td>2.115</td>\n",
       "    </tr>\n",
       "    <tr>\n",
       "      <th>162</th>\n",
       "      <td>2019-07-01</td>\n",
       "      <td>2.207</td>\n",
       "    </tr>\n",
       "    <tr>\n",
       "      <th>163</th>\n",
       "      <td>2019-08-01</td>\n",
       "      <td>2.162</td>\n",
       "    </tr>\n",
       "    <tr>\n",
       "      <th>164</th>\n",
       "      <td>2019-09-01</td>\n",
       "      <td>2.059</td>\n",
       "    </tr>\n",
       "    <tr>\n",
       "      <th>165</th>\n",
       "      <td>2019-10-01</td>\n",
       "      <td>2.203</td>\n",
       "    </tr>\n",
       "    <tr>\n",
       "      <th>166</th>\n",
       "      <td>2019-11-01</td>\n",
       "      <td>2.214</td>\n",
       "    </tr>\n",
       "    <tr>\n",
       "      <th>167</th>\n",
       "      <td>2019-12-01</td>\n",
       "      <td>2.176</td>\n",
       "    </tr>\n",
       "    <tr>\n",
       "      <th>168</th>\n",
       "      <td>2020-01-01</td>\n",
       "      <td>2.160</td>\n",
       "    </tr>\n",
       "    <tr>\n",
       "      <th>169</th>\n",
       "      <td>2020-02-01</td>\n",
       "      <td>2.029</td>\n",
       "    </tr>\n",
       "  </tbody>\n",
       "</table>\n",
       "</div>"
      ],
      "text/plain": [
       "           DATE  Price_($)\n",
       "150  2018-07-01      2.056\n",
       "151  2018-08-01      2.043\n",
       "152  2018-09-01      2.058\n",
       "153  2018-10-01      2.132\n",
       "154  2018-11-01      2.170\n",
       "155  2018-12-01      2.352\n",
       "156  2019-01-01      2.177\n",
       "157  2019-02-01      2.300\n",
       "158  2019-03-01      2.356\n",
       "159  2019-04-01      2.300\n",
       "160  2019-05-01      2.190\n",
       "161  2019-06-01      2.115\n",
       "162  2019-07-01      2.207\n",
       "163  2019-08-01      2.162\n",
       "164  2019-09-01      2.059\n",
       "165  2019-10-01      2.203\n",
       "166  2019-11-01      2.214\n",
       "167  2019-12-01      2.176\n",
       "168  2020-01-01      2.160\n",
       "169  2020-02-01      2.029"
      ]
     },
     "execution_count": 8,
     "metadata": {},
     "output_type": "execute_result"
    }
   ],
   "source": [
    "lettuce_price = lettuce_price.rename(columns = {\"observation_date\":\"DATE\"}).rename(columns = {\"APU0000FL2101\":\"Price_($)\"})\n",
    "lettuce_price.tail(20)"
   ]
  },
  {
   "cell_type": "code",
   "execution_count": 9,
   "id": "2337c422",
   "metadata": {},
   "outputs": [
    {
     "data": {
      "text/plain": [
       "(231, 2)"
      ]
     },
     "execution_count": 9,
     "metadata": {},
     "output_type": "execute_result"
    }
   ],
   "source": [
    "cucumber_price = cucumber_price.rename(columns = {\"observation_date\":\"DATE\"})\n",
    "cucumber_price.shape"
   ]
  },
  {
   "cell_type": "code",
   "execution_count": 10,
   "id": "a23a84c8",
   "metadata": {},
   "outputs": [
    {
     "data": {
      "text/html": [
       "<div>\n",
       "<style scoped>\n",
       "    .dataframe tbody tr th:only-of-type {\n",
       "        vertical-align: middle;\n",
       "    }\n",
       "\n",
       "    .dataframe tbody tr th {\n",
       "        vertical-align: top;\n",
       "    }\n",
       "\n",
       "    .dataframe thead th {\n",
       "        text-align: right;\n",
       "    }\n",
       "</style>\n",
       "<table border=\"1\" class=\"dataframe\">\n",
       "  <thead>\n",
       "    <tr style=\"text-align: right;\">\n",
       "      <th></th>\n",
       "      <th>Price_($)</th>\n",
       "    </tr>\n",
       "    <tr>\n",
       "      <th>DATE</th>\n",
       "      <th></th>\n",
       "    </tr>\n",
       "  </thead>\n",
       "  <tbody>\n",
       "    <tr>\n",
       "      <th>1980-12-31</th>\n",
       "      <td>0.673667</td>\n",
       "    </tr>\n",
       "    <tr>\n",
       "      <th>1981-12-31</th>\n",
       "      <td>0.769833</td>\n",
       "    </tr>\n",
       "    <tr>\n",
       "      <th>1982-12-31</th>\n",
       "      <td>0.738667</td>\n",
       "    </tr>\n",
       "    <tr>\n",
       "      <th>1983-12-31</th>\n",
       "      <td>0.784500</td>\n",
       "    </tr>\n",
       "    <tr>\n",
       "      <th>1984-12-31</th>\n",
       "      <td>0.807333</td>\n",
       "    </tr>\n",
       "    <tr>\n",
       "      <th>1985-12-31</th>\n",
       "      <td>0.778167</td>\n",
       "    </tr>\n",
       "    <tr>\n",
       "      <th>1986-12-31</th>\n",
       "      <td>0.823750</td>\n",
       "    </tr>\n",
       "    <tr>\n",
       "      <th>1987-12-31</th>\n",
       "      <td>0.823100</td>\n",
       "    </tr>\n",
       "    <tr>\n",
       "      <th>1988-12-31</th>\n",
       "      <td>0.834083</td>\n",
       "    </tr>\n",
       "    <tr>\n",
       "      <th>1989-12-31</th>\n",
       "      <td>0.912000</td>\n",
       "    </tr>\n",
       "  </tbody>\n",
       "</table>\n",
       "</div>"
      ],
      "text/plain": [
       "            Price_($)\n",
       "DATE                 \n",
       "1980-12-31   0.673667\n",
       "1981-12-31   0.769833\n",
       "1982-12-31   0.738667\n",
       "1983-12-31   0.784500\n",
       "1984-12-31   0.807333\n",
       "1985-12-31   0.778167\n",
       "1986-12-31   0.823750\n",
       "1987-12-31   0.823100\n",
       "1988-12-31   0.834083\n",
       "1989-12-31   0.912000"
      ]
     },
     "execution_count": 10,
     "metadata": {},
     "output_type": "execute_result"
    }
   ],
   "source": [
    "# This code calculates the average yearly price of the crop between 1980 and 2021\n",
    "tf = tomato_price.copy()\n",
    "\n",
    "tf.DATE = pd.to_datetime(tomato_price.DATE, format = '%Y-%d-%M')\n",
    "tf = tf.set_index(tf.DATE)\n",
    "tf = tf.resample('Y').mean()\n",
    "tf = tf.dropna()\n",
    "tf.head(10)"
   ]
  },
  {
   "cell_type": "code",
   "execution_count": 13,
   "id": "4d0a0956",
   "metadata": {},
   "outputs": [
    {
     "data": {
      "text/plain": [
       "[Text(0.5, 0, 'DATE'),\n",
       " Text(0, 0.5, 'Price ($)'),\n",
       " Text(0.5, 1.0, 'Graph showing the trend in prices per pound of Tomatoes between 1980 and 2021')]"
      ]
     },
     "execution_count": 13,
     "metadata": {},
     "output_type": "execute_result"
    },
    {
     "data": {
      "image/png": "[encoded data removed]",
      "text/plain": [
       "<Figure size 432x288 with 1 Axes>"
      ]
     },
     "metadata": {
      "needs_background": "light"
     },
     "output_type": "display_data"
    }
   ],
   "source": [
    "tf_plot = sns.lineplot(data=tf, x=\"DATE\", y=\"Price_($)\",color = \"red\",linewidth=1.5)\n",
    "tf_plot.set(xlabel='DATE', ylabel='Price ($)',  title = \"Graph showing the trend in prices per pound of Tomatoes between 1980 and 2021\")"
   ]
  },
  {
   "cell_type": "code",
   "execution_count": 14,
   "id": "216e567a",
   "metadata": {},
   "outputs": [
    {
     "data": {
      "text/html": [
       "<div>\n",
       "<style scoped>\n",
       "    .dataframe tbody tr th:only-of-type {\n",
       "        vertical-align: middle;\n",
       "    }\n",
       "\n",
       "    .dataframe tbody tr th {\n",
       "        vertical-align: top;\n",
       "    }\n",
       "\n",
       "    .dataframe thead th {\n",
       "        text-align: right;\n",
       "    }\n",
       "</style>\n",
       "<table border=\"1\" class=\"dataframe\">\n",
       "  <thead>\n",
       "    <tr style=\"text-align: right;\">\n",
       "      <th></th>\n",
       "      <th>Price_($)</th>\n",
       "    </tr>\n",
       "    <tr>\n",
       "      <th>DATE</th>\n",
       "      <th></th>\n",
       "    </tr>\n",
       "  </thead>\n",
       "  <tbody>\n",
       "    <tr>\n",
       "      <th>2006-12-31</th>\n",
       "      <td>1.393417</td>\n",
       "    </tr>\n",
       "    <tr>\n",
       "      <th>2007-12-31</th>\n",
       "      <td>1.570667</td>\n",
       "    </tr>\n",
       "    <tr>\n",
       "      <th>2008-12-31</th>\n",
       "      <td>1.710750</td>\n",
       "    </tr>\n",
       "    <tr>\n",
       "      <th>2009-12-31</th>\n",
       "      <td>1.755500</td>\n",
       "    </tr>\n",
       "    <tr>\n",
       "      <th>2010-12-31</th>\n",
       "      <td>1.792833</td>\n",
       "    </tr>\n",
       "    <tr>\n",
       "      <th>2011-12-31</th>\n",
       "      <td>1.780250</td>\n",
       "    </tr>\n",
       "    <tr>\n",
       "      <th>2012-12-31</th>\n",
       "      <td>1.518167</td>\n",
       "    </tr>\n",
       "    <tr>\n",
       "      <th>2013-12-31</th>\n",
       "      <td>1.711917</td>\n",
       "    </tr>\n",
       "    <tr>\n",
       "      <th>2014-12-31</th>\n",
       "      <td>1.693583</td>\n",
       "    </tr>\n",
       "    <tr>\n",
       "      <th>2015-12-31</th>\n",
       "      <td>1.986333</td>\n",
       "    </tr>\n",
       "  </tbody>\n",
       "</table>\n",
       "</div>"
      ],
      "text/plain": [
       "            Price_($)\n",
       "DATE                 \n",
       "2006-12-31   1.393417\n",
       "2007-12-31   1.570667\n",
       "2008-12-31   1.710750\n",
       "2009-12-31   1.755500\n",
       "2010-12-31   1.792833\n",
       "2011-12-31   1.780250\n",
       "2012-12-31   1.518167\n",
       "2013-12-31   1.711917\n",
       "2014-12-31   1.693583\n",
       "2015-12-31   1.986333"
      ]
     },
     "execution_count": 14,
     "metadata": {},
     "output_type": "execute_result"
    }
   ],
   "source": [
    "# This code calculates the average yearly price of the crop between 1980 and 2021\n",
    "lf = lettuce_price.copy()\n",
    "lf.DATE = pd.to_datetime(lettuce_price.DATE, format = '%Y-%m-%d')\n",
    "lf = lf.set_index(lf.DATE)\n",
    "lf = lf.drop(\"DATE\", axis = 1)\n",
    "lf = lf.resample('Y').mean()\n",
    "lf = lf.dropna()\n",
    "lf.head(10)"
   ]
  },
  {
   "cell_type": "code",
   "execution_count": 15,
   "id": "021e3187",
   "metadata": {},
   "outputs": [
    {
     "data": {
      "text/plain": [
       "[Text(0.5, 0, 'DATE'),\n",
       " Text(0, 0.5, 'Price ($)'),\n",
       " Text(0.5, 1.0, 'Graph showing the trend in prices per pound of Lettuce between 2006 and 2021')]"
      ]
     },
     "execution_count": 15,
     "metadata": {},
     "output_type": "execute_result"
    },
    {
     "data": {
      "image/png": "[encoded data removed]",
      "text/plain": [
       "<Figure size 432x288 with 1 Axes>"
      ]
     },
     "metadata": {
      "needs_background": "light"
     },
     "output_type": "display_data"
    }
   ],
   "source": [
    "lf_plot = sns.lineplot(data=lf, x=\"DATE\", y=\"Price_($)\", color = \"lime\",linewidth=1.5)\n",
    "lf_plot.set(xlabel='DATE', ylabel='Price ($)', title = \"Graph showing the trend in prices per pound of Lettuce between 2006 and 2021\")"
   ]
  },
  {
   "cell_type": "code",
   "execution_count": 16,
   "id": "a94d39af",
   "metadata": {},
   "outputs": [
    {
     "data": {
      "text/html": [
       "<div>\n",
       "<style scoped>\n",
       "    .dataframe tbody tr th:only-of-type {\n",
       "        vertical-align: middle;\n",
       "    }\n",
       "\n",
       "    .dataframe tbody tr th {\n",
       "        vertical-align: top;\n",
       "    }\n",
       "\n",
       "    .dataframe thead th {\n",
       "        text-align: right;\n",
       "    }\n",
       "</style>\n",
       "<table border=\"1\" class=\"dataframe\">\n",
       "  <thead>\n",
       "    <tr style=\"text-align: right;\">\n",
       "      <th></th>\n",
       "      <th>Price_($)</th>\n",
       "    </tr>\n",
       "    <tr>\n",
       "      <th>DATE</th>\n",
       "      <th></th>\n",
       "    </tr>\n",
       "  </thead>\n",
       "  <tbody>\n",
       "    <tr>\n",
       "      <th>1991-12-31</th>\n",
       "      <td>0.654333</td>\n",
       "    </tr>\n",
       "    <tr>\n",
       "      <th>1992-12-31</th>\n",
       "      <td>0.669167</td>\n",
       "    </tr>\n",
       "    <tr>\n",
       "      <th>1993-12-31</th>\n",
       "      <td>0.622917</td>\n",
       "    </tr>\n",
       "    <tr>\n",
       "      <th>1994-12-31</th>\n",
       "      <td>0.603750</td>\n",
       "    </tr>\n",
       "    <tr>\n",
       "      <th>1995-12-31</th>\n",
       "      <td>0.693917</td>\n",
       "    </tr>\n",
       "    <tr>\n",
       "      <th>1996-12-31</th>\n",
       "      <td>0.704250</td>\n",
       "    </tr>\n",
       "    <tr>\n",
       "      <th>1997-12-31</th>\n",
       "      <td>0.657083</td>\n",
       "    </tr>\n",
       "    <tr>\n",
       "      <th>1998-12-31</th>\n",
       "      <td>0.903000</td>\n",
       "    </tr>\n",
       "    <tr>\n",
       "      <th>1999-12-31</th>\n",
       "      <td>0.858200</td>\n",
       "    </tr>\n",
       "    <tr>\n",
       "      <th>2000-12-31</th>\n",
       "      <td>1.004250</td>\n",
       "    </tr>\n",
       "  </tbody>\n",
       "</table>\n",
       "</div>"
      ],
      "text/plain": [
       "            Price_($)\n",
       "DATE                 \n",
       "1991-12-31   0.654333\n",
       "1992-12-31   0.669167\n",
       "1993-12-31   0.622917\n",
       "1994-12-31   0.603750\n",
       "1995-12-31   0.693917\n",
       "1996-12-31   0.704250\n",
       "1997-12-31   0.657083\n",
       "1998-12-31   0.903000\n",
       "1999-12-31   0.858200\n",
       "2000-12-31   1.004250"
      ]
     },
     "execution_count": 16,
     "metadata": {},
     "output_type": "execute_result"
    }
   ],
   "source": [
    "# This code calculates the average yearly price of the crop between 1980 and 2021\n",
    "cf = cucumber_price.copy()\n",
    "cf.DATE = pd.to_datetime(cucumber_price.DATE, format = '%Y-%d-%M')\n",
    "cf = cf.set_index(cf.DATE)\n",
    "cf = cf.drop(\"DATE\", axis = 1)\n",
    "cf = cf.resample('Y').mean()\n",
    "cf = cf.dropna()\n",
    "cf.tail(10)"
   ]
  },
  {
   "cell_type": "code",
   "execution_count": 17,
   "id": "faa095ce",
   "metadata": {},
   "outputs": [
    {
     "data": {
      "text/plain": [
       "[Text(0.5, 0, 'DATE'),\n",
       " Text(0, 0.5, 'Price ($)'),\n",
       " Text(0.5, 1.0, 'Graph showing the trend in prices per pound of Cucumbers between 1980 and 2001')]"
      ]
     },
     "execution_count": 17,
     "metadata": {},
     "output_type": "execute_result"
    },
    {
     "data": {
      "image/png": "[encoded data removed]",
      "text/plain": [
       "<Figure size 432x288 with 1 Axes>"
      ]
     },
     "metadata": {
      "needs_background": "light"
     },
     "output_type": "display_data"
    }
   ],
   "source": [
    "cf_plot = sns.lineplot(data=cf, x=\"DATE\", y=\"Price_($)\",color = \"green\",linewidth=1.5)\n",
    "cf_plot.set(xlabel='DATE', ylabel='Price ($)', title = \"Graph showing the trend in prices per pound of Cucumbers between 1980 and 2001\")"
   ]
  },
  {
   "cell_type": "code",
   "execution_count": 18,
   "id": "80f0511f",
   "metadata": {},
   "outputs": [],
   "source": [
    "tf.to_csv('tomato_price_update.csv')\n",
    "lf.to_csv('lettuce_price_update.csv')\n",
    "cf.to_csv('cucumber_price_update.csv')"
   ]
  },
  {
   "cell_type": "markdown",
   "id": "fa219958",
   "metadata": {},
   "source": [
    "### The following graphs show the forecast in price change for Tomatoes, Lettuce and Cucumbers by the pound until 2026 (using Tableau)"
   ]
  },
  {
   "attachments": {
    "image-2.png": {
     "image/png": "[encoded data removed]"
    },
    "image-3.png": {
     "image/png": "[encoded data removed]"
    },
    "image.png": {
     "image/png": "[encoded data removed]"
    }
   },
   "cell_type": "markdown",
   "id": "07e8868c",
   "metadata": {},
   "source": [
    "![image.png](attachment:image.png)\n",
    "![image-2.png](attachment:image-2.png)\n",
    "![image-3.png](attachment:image-3.png)"
   ]
  },
  {
   "cell_type": "markdown",
   "id": "9f085624",
   "metadata": {},
   "source": [
    "#### Using the above graphs, we can calculate the predicted change of income for the vertical farms based on the previous calculations to have a better ide of future profits"
   ]
  },
  {
   "cell_type": "code",
   "execution_count": 21,
   "id": "870bace5",
   "metadata": {},
   "outputs": [
    {
     "name": "stdout",
     "output_type": "stream",
     "text": [
      "$ 4314.79125 $ 70950.825 $ 93510.729\n",
      "The total revenue would be $ 168776.34525\n"
     ]
    }
   ],
   "source": [
    "\"\"\"\n",
    "Estimated prices of crops per pound;\n",
    "Tomato: $2.051\n",
    "Lettuce: $2.63\n",
    "Cucumber: $1.443\n",
    "\n",
    "We will use the same calculations as before for profits\n",
    "\"\"\"\n",
    "\n",
    "#tomato\n",
    "Tomato_yearly_revenue= Tomato_avg * 2.051\n",
    "\n",
    "\n",
    "#lettuce\n",
    "Lettuce_yearly_revenue = (Lettuce_avg/1.5)*2.63\n",
    "\n",
    "#cucumber\n",
    "Cucumber_yearly_revenue = Cucumber_avg * 1.443\n",
    "\n",
    "print (\"$\",Tomato_yearly_revenue, \"$\",Lettuce_yearly_revenue, \"$\",Cucumber_yearly_revenue)\n",
    "print( \"The total revenue would be\",\"$\",(Tomato_yearly_revenue+Lettuce_yearly_revenue+Cucumber_yearly_revenue))\n"
   ]
  },
  {
   "cell_type": "markdown",
   "id": "9ea78134",
   "metadata": {},
   "source": [
    "## Now we will forecast the growth of the vertical farming industry until 2026"
   ]
  },
  {
   "cell_type": "markdown",
   "id": "f4e335a3",
   "metadata": {},
   "source": [
    "####  The following values are obtained from a number of websites that did their own analyses. Using this, we can see the general trend of the global vertical farming growth and use it to forecast the data"
   ]
  },
  {
   "cell_type": "code",
   "execution_count": 22,
   "id": "83d8a5c6",
   "metadata": {},
   "outputs": [
    {
     "data": {
      "text/html": [
       "<div>\n",
       "<style scoped>\n",
       "    .dataframe tbody tr th:only-of-type {\n",
       "        vertical-align: middle;\n",
       "    }\n",
       "\n",
       "    .dataframe tbody tr th {\n",
       "        vertical-align: top;\n",
       "    }\n",
       "\n",
       "    .dataframe thead th {\n",
       "        text-align: right;\n",
       "    }\n",
       "</style>\n",
       "<table border=\"1\" class=\"dataframe\">\n",
       "  <thead>\n",
       "    <tr style=\"text-align: right;\">\n",
       "      <th></th>\n",
       "      <th>Year</th>\n",
       "      <th>Market_value($)</th>\n",
       "    </tr>\n",
       "  </thead>\n",
       "  <tbody>\n",
       "    <tr>\n",
       "      <th>0</th>\n",
       "      <td>2015</td>\n",
       "      <td>1.100000e+09</td>\n",
       "    </tr>\n",
       "    <tr>\n",
       "      <th>1</th>\n",
       "      <td>2016</td>\n",
       "      <td>1.400000e+09</td>\n",
       "    </tr>\n",
       "    <tr>\n",
       "      <th>2</th>\n",
       "      <td>2017</td>\n",
       "      <td>1.720000e+09</td>\n",
       "    </tr>\n",
       "    <tr>\n",
       "      <th>3</th>\n",
       "      <td>2018</td>\n",
       "      <td>2.230000e+09</td>\n",
       "    </tr>\n",
       "    <tr>\n",
       "      <th>4</th>\n",
       "      <td>2019</td>\n",
       "      <td>2.970000e+09</td>\n",
       "    </tr>\n",
       "  </tbody>\n",
       "</table>\n",
       "</div>"
      ],
      "text/plain": [
       "   Year  Market_value($)\n",
       "0  2015     1.100000e+09\n",
       "1  2016     1.400000e+09\n",
       "2  2017     1.720000e+09\n",
       "3  2018     2.230000e+09\n",
       "4  2019     2.970000e+09"
      ]
     },
     "execution_count": 22,
     "metadata": {},
     "output_type": "execute_result"
    }
   ],
   "source": [
    "value = {\"2015\":\"1100000000\",\"2016\":\"1400000000\", \"2017\":\"1720000000\", \"2018\":\"2230000000\",\n",
    "         \"2019\":\"2970000000\",\"2020\":\"3890000000\",\"2021\":\"4810000000\", \"2022\":\"6310000000\"}\n",
    "\n",
    "df = pd.DataFrame(value.items(), columns=['Year', 'Market_value($)'])\n",
    "\n",
    "df.Year = df.Year.astype(int).fillna(0.0)\n",
    "df[\"Market_value($)\"] = df[\"Market_value($)\"].astype(float).fillna(0.0)\n",
    "\n",
    "df.head()"
   ]
  },
  {
   "cell_type": "markdown",
   "id": "cfa82910",
   "metadata": {},
   "source": [
    "Source:\n",
    "\n",
    "https://towardsdatascience.com/python-vs-excel-compound-annual-growth-rate-cagr-c8dbad46d3e0\n",
    "\n",
    "https://www.alliedmarketresearch.com/vertical-farming-market\n",
    "\n",
    "https://www.prnewswire.com/news-releases/vertical-farming-market-size-worth-21-15-billion-by-2028--cagr-23-6-grand-view-research-inc-301268521.html\n",
    "\n",
    "https://www.grandviewresearch.com/industry-analysis/vertical-farming-market\n",
    "\n",
    "http://verticalfarm.altervista.org/the-global-vertical-farming-market-is-estimated-at-1-15-billion-2015-and-is-poised-to-reach-6-31-billion-by-2022-growing-at-cagr-of-27-5/?doing_wp_cron=1630911517.4567120075225830078125"
   ]
  },
  {
   "cell_type": "code",
   "execution_count": 23,
   "id": "947529fb",
   "metadata": {},
   "outputs": [
    {
     "data": {
      "text/plain": [
       "[Text(0.5, 0, 'Year'),\n",
       " Text(0, 0.5, 'Market values ($ billion)'),\n",
       " Text(0.5, 1.0, 'Graph showing the growth of the vertical farming market between 2015 and 2022')]"
      ]
     },
     "execution_count": 23,
     "metadata": {},
     "output_type": "execute_result"
    },
    {
     "data": {
      "image/png": "[encoded data removed]",
      "text/plain": [
       "<Figure size 432x288 with 1 Axes>"
      ]
     },
     "metadata": {
      "needs_background": "light"
     },
     "output_type": "display_data"
    }
   ],
   "source": [
    "df_plot = sns.lineplot(data=df, x=\"Year\", y=\"Market_value($)\",linewidth=1.5)\n",
    "df_plot.set(xlabel='Year', ylabel='Market values ($ billion)', title = \"Graph showing the growth of the vertical farming market between 2015 and 2022\")\n",
    "#df_plot.legend_.remove()"
   ]
  },
  {
   "cell_type": "code",
   "execution_count": 24,
   "id": "f7562a54",
   "metadata": {},
   "outputs": [],
   "source": [
    "df.to_csv('vf_market_growth.csv')"
   ]
  },
  {
   "cell_type": "markdown",
   "id": "9510523a",
   "metadata": {},
   "source": [
    "### Tableau graph for the market forecasting to the year 2026"
   ]
  },
  {
   "attachments": {
    "image.png": {
     "image/png": "[encoded data removed]"
    }
   },
   "cell_type": "markdown",
   "id": "f20fec5c",
   "metadata": {},
   "source": [
    "![image.png](attachment:image.png)"
   ]
  }
 ],
 "metadata": {
  "kernelspec": {
   "display_name": "Python 3",
   "language": "python",
   "name": "python3"
  },
  "language_info": {
   "codemirror_mode": {
    "name": "ipython",
    "version": 3
   },
   "file_extension": ".py",
   "mimetype": "text/x-python",
   "name": "python",
   "nbconvert_exporter": "python",
   "pygments_lexer": "ipython3",
   "version": "3.8.8"
  }
 },
 "nbformat": 4,
 "nbformat_minor": 5
}
